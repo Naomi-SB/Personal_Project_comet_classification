{
 "cells": [
  {
   "cell_type": "code",
   "execution_count": 1,
   "id": "5f8214e1",
   "metadata": {},
   "outputs": [],
   "source": [
    "import pandas as pd\n",
    "import seaborn as sns\n",
    "from pydataset import data\n",
    "import numpy as np\n",
    "import os\n",
    "\n",
    "from sklearn.model_selection import train_test_split\n",
    "import sklearn.preprocessing\n",
    "from sklearn.tree import DecisionTreeClassifier\n",
    "from sklearn.neighbors import KNeighborsClassifier\n",
    "from sklearn.ensemble import RandomForestClassifier\n",
    "from sklearn.linear_model import LogisticRegression\n",
    "from sklearn.metrics import confusion_matrix, plot_confusion_matrix, ConfusionMatrixDisplay\n",
    "\n",
    "import prepare as p\n",
    "import model as m\n",
    "import explore as e\n",
    "import acquire as a\n",
    "from env import get_db_url\n",
    "\n",
    "#turn off pink warning boxes\n",
    "import warnings\n",
    "warnings.filterwarnings(\"ignore\")"
   ]
  },
  {
   "cell_type": "code",
   "execution_count": 2,
   "id": "5453e1c7",
   "metadata": {},
   "outputs": [],
   "source": [
    "df = a.get_comet_data()"
   ]
  },
  {
   "cell_type": "code",
   "execution_count": null,
   "id": "0639cf27",
   "metadata": {},
   "outputs": [],
   "source": [
    "df.drop(columns=['DT','A1', 'A2', 'A3', 'n_obs_used', 'per_y','condition_code', 'ad'], inplace = True)"
   ]
  },
  {
   "cell_type": "code",
   "execution_count": null,
   "id": "855211ca",
   "metadata": {},
   "outputs": [],
   "source": [
    "df['tp_cal']=df['tp_cal'].str.split(pat='.').str[0]"
   ]
  },
  {
   "cell_type": "code",
   "execution_count": null,
   "id": "82ce5a7c",
   "metadata": {},
   "outputs": [],
   "source": [
    "df['tp_cal']=df['tp_cal'].str.split(pat='-').str[0]"
   ]
  },
  {
   "cell_type": "code",
   "execution_count": null,
   "id": "e0cba319",
   "metadata": {},
   "outputs": [],
   "source": [
    "df=df.drop(index=[0,1])"
   ]
  },
  {
   "cell_type": "code",
   "execution_count": null,
   "id": "c34176be",
   "metadata": {},
   "outputs": [],
   "source": [
    "df['tp_cal'] = df['tp_cal'].astype('int')"
   ]
  },
  {
   "cell_type": "code",
   "execution_count": null,
   "id": "4e662c7f",
   "metadata": {},
   "outputs": [],
   "source": [
    "df = pd.get_dummies(df, columns = ['two_body'], drop_first=False)"
   ]
  },
  {
   "cell_type": "code",
   "execution_count": null,
   "id": "46e3ae74",
   "metadata": {},
   "outputs": [],
   "source": [
    "df = df.set_index('full_name')"
   ]
  },
  {
   "cell_type": "code",
   "execution_count": null,
   "id": "04c7c8d5",
   "metadata": {},
   "outputs": [],
   "source": [
    "df.rename({'class': 'orbit'}, axis=1, inplace=True)"
   ]
  },
  {
   "cell_type": "code",
   "execution_count": null,
   "id": "1baacda4",
   "metadata": {},
   "outputs": [],
   "source": [
    "df.head()"
   ]
  },
  {
   "cell_type": "code",
   "execution_count": null,
   "id": "951f3272",
   "metadata": {},
   "outputs": [],
   "source": [
    "df.info()"
   ]
  },
  {
   "cell_type": "code",
   "execution_count": null,
   "id": "7a0dd42b",
   "metadata": {},
   "outputs": [],
   "source": [
    "df['orbit'].value_counts()"
   ]
  },
  {
   "cell_type": "code",
   "execution_count": null,
   "id": "f73a4493",
   "metadata": {},
   "outputs": [],
   "source": [
    "df.class_PAR.value_counts()"
   ]
  },
  {
   "cell_type": "markdown",
   "id": "57852aea",
   "metadata": {},
   "source": [
    "## Prep Complete"
   ]
  },
  {
   "cell_type": "code",
   "execution_count": 3,
   "id": "04ebfe3f",
   "metadata": {},
   "outputs": [],
   "source": [
    "df = p.pre_processing(df)"
   ]
  },
  {
   "cell_type": "code",
   "execution_count": null,
   "id": "c19ef782",
   "metadata": {},
   "outputs": [],
   "source": [
    "df.head()"
   ]
  },
  {
   "cell_type": "markdown",
   "id": "51b333c2",
   "metadata": {},
   "source": [
    "# Split"
   ]
  },
  {
   "cell_type": "code",
   "execution_count": 4,
   "id": "47a5e96a",
   "metadata": {},
   "outputs": [],
   "source": [
    "train, validate, test = p.split_data(df)"
   ]
  },
  {
   "cell_type": "code",
   "execution_count": 5,
   "id": "0da10ad5",
   "metadata": {},
   "outputs": [],
   "source": [
    "train_X, validate_X, test_X, train_y, validate_y, test_y = p.final_split(df, 'orbit')"
   ]
  },
  {
   "cell_type": "code",
   "execution_count": 6,
   "id": "7a40d399",
   "metadata": {},
   "outputs": [
    {
     "data": {
      "text/plain": [
       "(1243, 10)"
      ]
     },
     "execution_count": 6,
     "metadata": {},
     "output_type": "execute_result"
    }
   ],
   "source": [
    "train.shape"
   ]
  },
  {
   "cell_type": "code",
   "execution_count": 7,
   "id": "0b123706",
   "metadata": {},
   "outputs": [
    {
     "data": {
      "text/plain": [
       "(533, 10)"
      ]
     },
     "execution_count": 7,
     "metadata": {},
     "output_type": "execute_result"
    }
   ],
   "source": [
    "validate.shape"
   ]
  },
  {
   "cell_type": "code",
   "execution_count": 8,
   "id": "648047eb",
   "metadata": {},
   "outputs": [
    {
     "data": {
      "text/plain": [
       "(445, 10)"
      ]
     },
     "execution_count": 8,
     "metadata": {},
     "output_type": "execute_result"
    }
   ],
   "source": [
    "test.shape"
   ]
  },
  {
   "cell_type": "markdown",
   "id": "cd2d3ca6",
   "metadata": {},
   "source": [
    "# Explore"
   ]
  },
  {
   "cell_type": "code",
   "execution_count": null,
   "id": "01a1a734",
   "metadata": {},
   "outputs": [],
   "source": []
  }
 ],
 "metadata": {
  "kernelspec": {
   "display_name": "Python 3 (ipykernel)",
   "language": "python",
   "name": "python3"
  },
  "language_info": {
   "codemirror_mode": {
    "name": "ipython",
    "version": 3
   },
   "file_extension": ".py",
   "mimetype": "text/x-python",
   "name": "python",
   "nbconvert_exporter": "python",
   "pygments_lexer": "ipython3",
   "version": "3.9.12"
  }
 },
 "nbformat": 4,
 "nbformat_minor": 5
}
