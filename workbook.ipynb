{
 "cells": [
  {
   "cell_type": "code",
   "execution_count": 1,
   "id": "97c3dd42",
   "metadata": {},
   "outputs": [],
   "source": [
    "import pandas as pd\n",
    "import seaborn as sns\n",
    "import matplotlib.pyplot as plt\n",
    "from pydataset import data\n",
    "import numpy as np\n",
    "import os\n",
    "import scipy.stats as stats\n",
    "\n",
    "\n",
    "from sklearn.model_selection import train_test_split\n",
    "import sklearn.preprocessing\n",
    "from sklearn.tree import DecisionTreeClassifier, plot_tree\n",
    "from sklearn.neighbors import KNeighborsClassifier\n",
    "from sklearn.ensemble import RandomForestClassifier\n",
    "from sklearn.linear_model import LogisticRegression\n",
    "from sklearn.metrics import confusion_matrix, plot_confusion_matrix, ConfusionMatrixDisplay, classification_report\n",
    "alpha = 0.5\n",
    "\n",
    "import prepare as p\n",
    "import model as m\n",
    "import explore as e\n",
    "import acquire as a\n",
    "from env import get_db_url\n",
    "\n",
    "#turn off pink warning boxes\n",
    "import warnings\n",
    "warnings.filterwarnings(\"ignore\")"
   ]
  },
  {
   "cell_type": "code",
   "execution_count": 2,
   "id": "7fa339c6",
   "metadata": {},
   "outputs": [],
   "source": [
    "df = a.get_comet_data()"
   ]
  },
  {
   "cell_type": "code",
   "execution_count": 3,
   "id": "e2470102",
   "metadata": {},
   "outputs": [],
   "source": [
    "#df.drop(columns=['DT','A1', 'A2', 'A3', 'n_obs_used', 'per_y','condition_code', 'ad'], inplace = True)"
   ]
  },
  {
   "cell_type": "code",
   "execution_count": 4,
   "id": "ea8d9e6e",
   "metadata": {},
   "outputs": [],
   "source": [
    "#df['tp_cal']=df['tp_cal'].str.split(pat='.').str[0]"
   ]
  },
  {
   "cell_type": "code",
   "execution_count": 5,
   "id": "16159194",
   "metadata": {},
   "outputs": [],
   "source": [
    "#df['tp_cal']=df['tp_cal'].str.split(pat='-').str[0]"
   ]
  },
  {
   "cell_type": "code",
   "execution_count": 6,
   "id": "fe4ab895",
   "metadata": {},
   "outputs": [],
   "source": [
    "#df=df.drop(index=[0,1])"
   ]
  },
  {
   "cell_type": "code",
   "execution_count": 7,
   "id": "7bcd4067",
   "metadata": {},
   "outputs": [],
   "source": [
    "#df['tp_cal'] = df['tp_cal'].astype('int')"
   ]
  },
  {
   "cell_type": "code",
   "execution_count": 8,
   "id": "a1223422",
   "metadata": {},
   "outputs": [],
   "source": [
    "#df = pd.get_dummies(df, columns = ['two_body'], drop_first=False)"
   ]
  },
  {
   "cell_type": "code",
   "execution_count": 9,
   "id": "2b29dfb6",
   "metadata": {},
   "outputs": [],
   "source": [
    "#df = df.set_index('full_name')"
   ]
  },
  {
   "cell_type": "code",
   "execution_count": 10,
   "id": "b51d322e",
   "metadata": {},
   "outputs": [],
   "source": [
    "#df.rename({'class': 'orbit'}, axis=1, inplace=True)"
   ]
  },
  {
   "cell_type": "code",
   "execution_count": 11,
   "id": "ff3087d9",
   "metadata": {},
   "outputs": [],
   "source": [
    "#df.head()"
   ]
  },
  {
   "cell_type": "code",
   "execution_count": 12,
   "id": "a776b384",
   "metadata": {},
   "outputs": [],
   "source": [
    "#df.info()"
   ]
  },
  {
   "cell_type": "code",
   "execution_count": 13,
   "id": "423df686",
   "metadata": {},
   "outputs": [],
   "source": [
    "#df['orbit'].value_counts()"
   ]
  },
  {
   "cell_type": "code",
   "execution_count": 14,
   "id": "3ae808c7",
   "metadata": {},
   "outputs": [],
   "source": [
    "#df.class_PAR.value_counts()"
   ]
  },
  {
   "cell_type": "markdown",
   "id": "7864f8bf",
   "metadata": {},
   "source": [
    "## Prep Complete"
   ]
  },
  {
   "cell_type": "code",
   "execution_count": 15,
   "id": "6f8b5f88",
   "metadata": {},
   "outputs": [],
   "source": [
    "df = p.pre_processing(df)"
   ]
  },
  {
   "cell_type": "code",
   "execution_count": 16,
   "id": "7d8ceaa0",
   "metadata": {},
   "outputs": [
    {
     "data": {
      "text/html": [
       "<div>\n",
       "<style scoped>\n",
       "    .dataframe tbody tr th:only-of-type {\n",
       "        vertical-align: middle;\n",
       "    }\n",
       "\n",
       "    .dataframe tbody tr th {\n",
       "        vertical-align: top;\n",
       "    }\n",
       "\n",
       "    .dataframe thead th {\n",
       "        text-align: right;\n",
       "    }\n",
       "</style>\n",
       "<table border=\"1\" class=\"dataframe\">\n",
       "  <thead>\n",
       "    <tr style=\"text-align: right;\">\n",
       "      <th></th>\n",
       "      <th>q</th>\n",
       "      <th>i</th>\n",
       "      <th>om</th>\n",
       "      <th>w</th>\n",
       "      <th>tp_cal</th>\n",
       "      <th>orbit</th>\n",
       "      <th>data_arc</th>\n",
       "      <th>two_body_F</th>\n",
       "      <th>two_body_T</th>\n",
       "    </tr>\n",
       "    <tr>\n",
       "      <th>full_name</th>\n",
       "      <th></th>\n",
       "      <th></th>\n",
       "      <th></th>\n",
       "      <th></th>\n",
       "      <th></th>\n",
       "      <th></th>\n",
       "      <th></th>\n",
       "      <th></th>\n",
       "      <th></th>\n",
       "    </tr>\n",
       "  </thead>\n",
       "  <tbody>\n",
       "    <tr>\n",
       "      <th>C/240 V1</th>\n",
       "      <td>0.37</td>\n",
       "      <td>44.0</td>\n",
       "      <td>214.0</td>\n",
       "      <td>82.0</td>\n",
       "      <td>240</td>\n",
       "      <td>PAR</td>\n",
       "      <td>39.0</td>\n",
       "      <td>0</td>\n",
       "      <td>1</td>\n",
       "    </tr>\n",
       "    <tr>\n",
       "      <th>C/390 Q1</th>\n",
       "      <td>0.92</td>\n",
       "      <td>36.0</td>\n",
       "      <td>356.0</td>\n",
       "      <td>23.0</td>\n",
       "      <td>390</td>\n",
       "      <td>PAR</td>\n",
       "      <td>26.0</td>\n",
       "      <td>0</td>\n",
       "      <td>1</td>\n",
       "    </tr>\n",
       "    <tr>\n",
       "      <th>C/400 F1</th>\n",
       "      <td>0.21</td>\n",
       "      <td>32.0</td>\n",
       "      <td>38.0</td>\n",
       "      <td>47.0</td>\n",
       "      <td>400</td>\n",
       "      <td>PAR</td>\n",
       "      <td>22.0</td>\n",
       "      <td>0</td>\n",
       "      <td>1</td>\n",
       "    </tr>\n",
       "    <tr>\n",
       "      <th>C/418 M1</th>\n",
       "      <td>0.35</td>\n",
       "      <td>110.0</td>\n",
       "      <td>310.0</td>\n",
       "      <td>240.0</td>\n",
       "      <td>418</td>\n",
       "      <td>PAR</td>\n",
       "      <td>82.0</td>\n",
       "      <td>0</td>\n",
       "      <td>1</td>\n",
       "    </tr>\n",
       "    <tr>\n",
       "      <th>C/442 V1</th>\n",
       "      <td>1.53</td>\n",
       "      <td>106.0</td>\n",
       "      <td>271.0</td>\n",
       "      <td>178.0</td>\n",
       "      <td>442</td>\n",
       "      <td>PAR</td>\n",
       "      <td>100.0</td>\n",
       "      <td>0</td>\n",
       "      <td>1</td>\n",
       "    </tr>\n",
       "  </tbody>\n",
       "</table>\n",
       "</div>"
      ],
      "text/plain": [
       "                  q      i     om      w  tp_cal orbit  data_arc  two_body_F  \\\n",
       "full_name                                                                      \n",
       "     C/240 V1  0.37   44.0  214.0   82.0     240   PAR      39.0           0   \n",
       "     C/390 Q1  0.92   36.0  356.0   23.0     390   PAR      26.0           0   \n",
       "     C/400 F1  0.21   32.0   38.0   47.0     400   PAR      22.0           0   \n",
       "     C/418 M1  0.35  110.0  310.0  240.0     418   PAR      82.0           0   \n",
       "     C/442 V1  1.53  106.0  271.0  178.0     442   PAR     100.0           0   \n",
       "\n",
       "               two_body_T  \n",
       "full_name                  \n",
       "     C/240 V1           1  \n",
       "     C/390 Q1           1  \n",
       "     C/400 F1           1  \n",
       "     C/418 M1           1  \n",
       "     C/442 V1           1  "
      ]
     },
     "execution_count": 16,
     "metadata": {},
     "output_type": "execute_result"
    }
   ],
   "source": [
    "df.head()"
   ]
  },
  {
   "cell_type": "markdown",
   "id": "0bc38e2e",
   "metadata": {},
   "source": [
    "# Split"
   ]
  },
  {
   "cell_type": "code",
   "execution_count": 17,
   "id": "8f8455b7",
   "metadata": {},
   "outputs": [],
   "source": [
    "train, validate, test = p.split_data(df)"
   ]
  },
  {
   "cell_type": "code",
   "execution_count": 18,
   "id": "663f2955",
   "metadata": {},
   "outputs": [],
   "source": [
    "train_X, validate_X, test_X, train_y, validate_y, test_y = p.final_split(df, 'orbit')"
   ]
  },
  {
   "cell_type": "markdown",
   "id": "2446c253",
   "metadata": {},
   "source": [
    "# Explore"
   ]
  },
  {
   "cell_type": "code",
   "execution_count": 19,
   "id": "da8a1745",
   "metadata": {},
   "outputs": [],
   "source": [
    "#cat_vars_list = ['orbit', 'two_body_F', 'two_body_T']\n",
    "#cont_vars_list = ['e','q','i','om','w','tp_cal','data_arc' ]"
   ]
  },
  {
   "cell_type": "code",
   "execution_count": 20,
   "id": "1c056310",
   "metadata": {},
   "outputs": [
    {
     "data": {
      "text/plain": [
       "<AxesSubplot:>"
      ]
     },
     "execution_count": 20,
     "metadata": {},
     "output_type": "execute_result"
    },
    {
     "data": {
      "image/png": "[encoded data removed]",
      "text/plain": [
       "<Figure size 432x288 with 1 Axes>"
      ]
     },
     "metadata": {
      "needs_background": "light"
     },
     "output_type": "display_data"
    }
   ],
   "source": [
    "train.orbit.hist()"
   ]
  },
  {
   "cell_type": "markdown",
   "id": "60a1d5c5",
   "metadata": {},
   "source": [
    "### Stats Tests"
   ]
  },
  {
   "cell_type": "code",
   "execution_count": 35,
   "id": "b0dde2c6",
   "metadata": {},
   "outputs": [],
   "source": [
    "\n",
    "HYP_sample_class = train[train.orbit == 'HYP'].two_body_F\n",
    "overall_mean_class = train.two_body_F.mean()\n"
   ]
  },
  {
   "cell_type": "code",
   "execution_count": 36,
   "id": "7b478f32",
   "metadata": {},
   "outputs": [
    {
     "name": "stdout",
     "output_type": "stream",
     "text": [
      "2.3645678639917223 0.009398915409860676 0.5\n",
      "We acknowledge there is a relationship\n"
     ]
    }
   ],
   "source": [
    "t, p = stats.ttest_1samp(HYP_sample_class, overall_mean_class)\n",
    "\n",
    "print(t, p/2, alpha)\n",
    "\n",
    "if p/2 > alpha:\n",
    "    print(\"We acknowledge there is no relationship\")\n",
    "elif t < 0:\n",
    "    print(\"We acknowledge there is no relationship\")\n",
    "else:\n",
    "    print(\"We acknowledge there is a relationship\")"
   ]
  },
  {
   "cell_type": "code",
   "execution_count": null,
   "id": "54f4418a",
   "metadata": {},
   "outputs": [],
   "source": []
  }
 ],
 "metadata": {
  "kernelspec": {
   "display_name": "Python 3 (ipykernel)",
   "language": "python",
   "name": "python3"
  },
  "language_info": {
   "codemirror_mode": {
    "name": "ipython",
    "version": 3
   },
   "file_extension": ".py",
   "mimetype": "text/x-python",
   "name": "python",
   "nbconvert_exporter": "python",
   "pygments_lexer": "ipython3",
   "version": "3.9.12"
  }
 },
 "nbformat": 4,
 "nbformat_minor": 5
}
