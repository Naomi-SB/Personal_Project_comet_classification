{
 "cells": [
  {
   "cell_type": "code",
   "execution_count": 1,
   "id": "ef2a4861",
   "metadata": {},
   "outputs": [],
   "source": [
    "import pandas as pd\n",
    "import seaborn as sns\n",
    "import matplotlib.pyplot as plt\n",
    "from matplotlib import rcParams\n",
    "from pydataset import data\n",
    "import numpy as np\n",
    "import os\n",
    "import scipy.stats as stats\n",
    "from scipy.stats import mannwhitneyu\n",
    "\n",
    "from sklearn.model_selection import train_test_split\n",
    "import sklearn.preprocessing\n",
    "from sklearn.tree import DecisionTreeClassifier, plot_tree\n",
    "from sklearn.neighbors import KNeighborsClassifier\n",
    "from sklearn.ensemble import RandomForestClassifier\n",
    "from sklearn.linear_model import LogisticRegression\n",
    "from sklearn.metrics import confusion_matrix, plot_confusion_matrix, ConfusionMatrixDisplay, classification_report\n",
    "alpha = 0.05\n",
    "\n",
    "import prepare as p\n",
    "import model as m\n",
    "import explore as e\n",
    "import acquire as a\n",
    "from env import get_db_url\n",
    "\n",
    "#turn off pink warning boxes\n",
    "import warnings\n",
    "warnings.filterwarnings(\"ignore\")"
   ]
  },
  {
   "cell_type": "markdown",
   "id": "90c18758",
   "metadata": {},
   "source": [
    "# aquiring raw data"
   ]
  },
  {
   "cell_type": "code",
   "execution_count": 2,
   "id": "48c5fe07",
   "metadata": {},
   "outputs": [],
   "source": [
    "df = a.get_comet_data()"
   ]
  },
  {
   "cell_type": "code",
   "execution_count": 3,
   "id": "8e544651",
   "metadata": {},
   "outputs": [
    {
     "data": {
      "text/html": [
       "<div>\n",
       "<style scoped>\n",
       "    .dataframe tbody tr th:only-of-type {\n",
       "        vertical-align: middle;\n",
       "    }\n",
       "\n",
       "    .dataframe tbody tr th {\n",
       "        vertical-align: top;\n",
       "    }\n",
       "\n",
       "    .dataframe thead th {\n",
       "        text-align: right;\n",
       "    }\n",
       "</style>\n",
       "<table border=\"1\" class=\"dataframe\">\n",
       "  <thead>\n",
       "    <tr style=\"text-align: right;\">\n",
       "      <th></th>\n",
       "      <th>full_name</th>\n",
       "      <th>e</th>\n",
       "      <th>q</th>\n",
       "      <th>i</th>\n",
       "      <th>om</th>\n",
       "      <th>w</th>\n",
       "      <th>ad</th>\n",
       "      <th>tp_cal</th>\n",
       "      <th>per_y</th>\n",
       "      <th>class</th>\n",
       "      <th>data_arc</th>\n",
       "      <th>condition_code</th>\n",
       "      <th>n_obs_used</th>\n",
       "      <th>two_body</th>\n",
       "      <th>A1</th>\n",
       "      <th>A2</th>\n",
       "      <th>A3</th>\n",
       "      <th>DT</th>\n",
       "    </tr>\n",
       "  </thead>\n",
       "  <tbody>\n",
       "    <tr>\n",
       "      <th>0</th>\n",
       "      <td>C/-146 P1</td>\n",
       "      <td>1.0</td>\n",
       "      <td>0.43</td>\n",
       "      <td>71.0</td>\n",
       "      <td>330.0</td>\n",
       "      <td>261.0</td>\n",
       "      <td>NaN</td>\n",
       "      <td>-146-06-28.0</td>\n",
       "      <td>NaN</td>\n",
       "      <td>PAR</td>\n",
       "      <td>5.0</td>\n",
       "      <td>NaN</td>\n",
       "      <td>4.0</td>\n",
       "      <td>T</td>\n",
       "      <td>NaN</td>\n",
       "      <td>NaN</td>\n",
       "      <td>NaN</td>\n",
       "      <td>NaN</td>\n",
       "    </tr>\n",
       "    <tr>\n",
       "      <th>1</th>\n",
       "      <td>C/-43 K1</td>\n",
       "      <td>1.0</td>\n",
       "      <td>0.22</td>\n",
       "      <td>110.0</td>\n",
       "      <td>170.0</td>\n",
       "      <td>17.0</td>\n",
       "      <td>NaN</td>\n",
       "      <td>-043-05-25.0</td>\n",
       "      <td>NaN</td>\n",
       "      <td>PAR</td>\n",
       "      <td>54.0</td>\n",
       "      <td>NaN</td>\n",
       "      <td>NaN</td>\n",
       "      <td>T</td>\n",
       "      <td>NaN</td>\n",
       "      <td>NaN</td>\n",
       "      <td>NaN</td>\n",
       "      <td>NaN</td>\n",
       "    </tr>\n",
       "    <tr>\n",
       "      <th>2</th>\n",
       "      <td>C/240 V1</td>\n",
       "      <td>1.0</td>\n",
       "      <td>0.37</td>\n",
       "      <td>44.0</td>\n",
       "      <td>214.0</td>\n",
       "      <td>82.0</td>\n",
       "      <td>NaN</td>\n",
       "      <td>0240-11-10.0</td>\n",
       "      <td>NaN</td>\n",
       "      <td>PAR</td>\n",
       "      <td>39.0</td>\n",
       "      <td>NaN</td>\n",
       "      <td>NaN</td>\n",
       "      <td>T</td>\n",
       "      <td>NaN</td>\n",
       "      <td>NaN</td>\n",
       "      <td>NaN</td>\n",
       "      <td>NaN</td>\n",
       "    </tr>\n",
       "  </tbody>\n",
       "</table>\n",
       "</div>"
      ],
      "text/plain": [
       "        full_name    e     q      i     om      w  ad        tp_cal  per_y  \\\n",
       "0       C/-146 P1  1.0  0.43   71.0  330.0  261.0 NaN  -146-06-28.0    NaN   \n",
       "1        C/-43 K1  1.0  0.22  110.0  170.0   17.0 NaN  -043-05-25.0    NaN   \n",
       "2        C/240 V1  1.0  0.37   44.0  214.0   82.0 NaN  0240-11-10.0    NaN   \n",
       "\n",
       "  class  data_arc  condition_code  n_obs_used two_body  A1  A2  A3  DT  \n",
       "0   PAR       5.0             NaN         4.0        T NaN NaN NaN NaN  \n",
       "1   PAR      54.0             NaN         NaN        T NaN NaN NaN NaN  \n",
       "2   PAR      39.0             NaN         NaN        T NaN NaN NaN NaN  "
      ]
     },
     "execution_count": 3,
     "metadata": {},
     "output_type": "execute_result"
    }
   ],
   "source": [
    "df.head(3)"
   ]
  },
  {
   "cell_type": "markdown",
   "id": "8fc2aaeb",
   "metadata": {},
   "source": [
    "# preparing data"
   ]
  },
  {
   "cell_type": "markdown",
   "id": "374eae9b",
   "metadata": {},
   "source": [
    "| Feature | Definition | Reason |\n",
    "|:--------|:-----------|:----------|\n",
    "|<img width=50/>|<img width=100/>|<img width=50/>|<img width=150/>|\n",
    "|||**Dropped Columns**\n",
    "|<img width=50/>|<img width=100/>|<img width=50/>|<img width=150/>|\n",
    "|*e*|  eccentricity | The eccentricity defines the orbit class\n",
    "|*A1*| non-grav radial parameter | Excessive null values\n",
    "|*A2*| non-grav transverse parameter | Excessive null values\n",
    "|*A3*| non-grav normal parameter | Excessive null values\n",
    "|*D*| non-gravperihelion maximum offset | Excessive null values\n",
    "|||**Dropped Rows**\n",
    "<img width=50/>|<img width=100/>|<img width=50/>|<img width=150/>|\n",
    "|*2 rows for tp_cal*| time of perihelion calculated | Dates were negative; assuming this means B.C.E\n",
    "|*3 rows for data_arc *| Number of days spanned by the data arc | null values could not be imputed\n",
    "|||**Altered Data**\n",
    "||<img width=150/>|<img width=550/>|\n",
    "|*tp_cal*| time of perihelion calculated | object data type could not be converted in Pandas as the time span is too large. Modified by dropping month, day, and time information. Resulting year was converted to int64|\n",
    "|*two_body*| two-body dynamics used | Original data was T/F. Used dummies to get three columns for True, False, and Nans\n",
    "|*full_name*| the name of the comet | Fit to index|\n",
    "|*All*| all columns | Name changed to be more human readable|"
   ]
  },
  {
   "cell_type": "code",
   "execution_count": 4,
   "id": "257e6595",
   "metadata": {},
   "outputs": [],
   "source": [
    "df = p.pre_processing(df)"
   ]
  },
  {
   "cell_type": "code",
   "execution_count": 5,
   "id": "023fe94a",
   "metadata": {},
   "outputs": [
    {
     "data": {
      "text/html": [
       "<div>\n",
       "<style scoped>\n",
       "    .dataframe tbody tr th:only-of-type {\n",
       "        vertical-align: middle;\n",
       "    }\n",
       "\n",
       "    .dataframe tbody tr th {\n",
       "        vertical-align: top;\n",
       "    }\n",
       "\n",
       "    .dataframe thead th {\n",
       "        text-align: right;\n",
       "    }\n",
       "</style>\n",
       "<table border=\"1\" class=\"dataframe\">\n",
       "  <thead>\n",
       "    <tr style=\"text-align: right;\">\n",
       "      <th></th>\n",
       "      <th>orbit</th>\n",
       "      <th>perihelion</th>\n",
       "      <th>peri_distance</th>\n",
       "      <th>time_of_peri</th>\n",
       "      <th>inclination</th>\n",
       "      <th>node</th>\n",
       "      <th>days_of_data_arc</th>\n",
       "      <th>two_body_T</th>\n",
       "      <th>two_body_F</th>\n",
       "      <th>two_body_nan</th>\n",
       "    </tr>\n",
       "    <tr>\n",
       "      <th>full_name</th>\n",
       "      <th></th>\n",
       "      <th></th>\n",
       "      <th></th>\n",
       "      <th></th>\n",
       "      <th></th>\n",
       "      <th></th>\n",
       "      <th></th>\n",
       "      <th></th>\n",
       "      <th></th>\n",
       "      <th></th>\n",
       "    </tr>\n",
       "  </thead>\n",
       "  <tbody>\n",
       "    <tr>\n",
       "      <th>C/240 V1</th>\n",
       "      <td>PAR</td>\n",
       "      <td>82.0</td>\n",
       "      <td>0.37</td>\n",
       "      <td>240</td>\n",
       "      <td>44.0</td>\n",
       "      <td>214.0</td>\n",
       "      <td>39.0</td>\n",
       "      <td>1</td>\n",
       "      <td>0</td>\n",
       "      <td>0</td>\n",
       "    </tr>\n",
       "    <tr>\n",
       "      <th>C/390 Q1</th>\n",
       "      <td>PAR</td>\n",
       "      <td>23.0</td>\n",
       "      <td>0.92</td>\n",
       "      <td>390</td>\n",
       "      <td>36.0</td>\n",
       "      <td>356.0</td>\n",
       "      <td>26.0</td>\n",
       "      <td>1</td>\n",
       "      <td>0</td>\n",
       "      <td>0</td>\n",
       "    </tr>\n",
       "    <tr>\n",
       "      <th>C/400 F1</th>\n",
       "      <td>PAR</td>\n",
       "      <td>47.0</td>\n",
       "      <td>0.21</td>\n",
       "      <td>400</td>\n",
       "      <td>32.0</td>\n",
       "      <td>38.0</td>\n",
       "      <td>22.0</td>\n",
       "      <td>1</td>\n",
       "      <td>0</td>\n",
       "      <td>0</td>\n",
       "    </tr>\n",
       "  </tbody>\n",
       "</table>\n",
       "</div>"
      ],
      "text/plain": [
       "              orbit  perihelion  peri_distance  time_of_peri  inclination  \\\n",
       "full_name                                                                   \n",
       "     C/240 V1   PAR        82.0           0.37           240         44.0   \n",
       "     C/390 Q1   PAR        23.0           0.92           390         36.0   \n",
       "     C/400 F1   PAR        47.0           0.21           400         32.0   \n",
       "\n",
       "                node  days_of_data_arc  two_body_T  two_body_F  two_body_nan  \n",
       "full_name                                                                     \n",
       "     C/240 V1  214.0              39.0           1           0             0  \n",
       "     C/390 Q1  356.0              26.0           1           0             0  \n",
       "     C/400 F1   38.0              22.0           1           0             0  "
      ]
     },
     "execution_count": 5,
     "metadata": {},
     "output_type": "execute_result"
    }
   ],
   "source": [
    "df.head(3)"
   ]
  },
  {
   "cell_type": "markdown",
   "id": "19c3d08f",
   "metadata": {},
   "source": [
    "| Feature | Definition | Layman's Terms |\n",
    "|:--------|:-----------|:----------|\n",
    "|<img width=50/>|<img width=100/>|<img width=50/>|<img width=150/>|\n",
    "|||**Data**\n",
    "|<img width=50/>|<img width=100/>|<img width=50/>|<img width=150/>|\n",
    "|*perihelion*|  The point nearest to the sun in the path of an orbiting celestial body  | Where the comet is closest to the sun\n",
    "|*peri_distance*| The distance between the sun and an orbiting body when it at perihelion | How far the comet is from the sun when it is as close as it gets to the sun\n",
    "|*time_of_peri*| The calculated time period of perihelion | What day on Earth it was/will be when the comet was closest to the sun\n",
    "|*inclination*| the angle between the orbital plane of the object and the plane of the ecliptic | Measures the tilt of the comet's orbit\n",
    "|*node*| the intersection of the orbit plane of some celestial body with the plane of the ecliptic  | The point where inclination 'pokes through'\n",
    "|*days_of_data_arc*| the time period between its earliest and latest observations, used for tracing the body's path | The number of days the comet could be observed\n",
    "|||**Two Body**\n",
    "|*two_body*| two-body dynamics used |\n",
    "|*True *| Number of days spanned by the data arc | null values could not be imputed\n",
    "|*False*| time of perihelion calculated | object data type could not be converted in Pandas as the time span is too large. Modified by dropping month, day, and time information. Resulting year was converted to int64|\n",
    "|*nan*| two-body dynamics used | Original data was T/F. Used dummies to get three columns for True, False, and Nans\n"
   ]
  },
  {
   "cell_type": "markdown",
   "id": "e9f22eff",
   "metadata": {},
   "source": [
    "# Data Split"
   ]
  },
  {
   "cell_type": "code",
   "execution_count": 6,
   "id": "cfe63eec",
   "metadata": {},
   "outputs": [],
   "source": [
    "#splits data into three data frames called train, validate, and test\n",
    "train, validate, test = p.split_data(df)"
   ]
  },
  {
   "cell_type": "code",
   "execution_count": 7,
   "id": "c5387478",
   "metadata": {},
   "outputs": [],
   "source": [
    "#splits the three data sets into six more witht the three y frames isolating the target variable\n",
    "train_X, validate_X, test_X, train_y, validate_y, test_y = p.final_split(df, 'orbit')"
   ]
  },
  {
   "cell_type": "markdown",
   "id": "046633e1",
   "metadata": {},
   "source": [
    "# Exploration"
   ]
  },
  {
   "cell_type": "markdown",
   "id": "e3b2fe47",
   "metadata": {},
   "source": [
    " ### For this project I began my exploration by jumping right into statistical testing. I set parameters to separte the data based on orbit class and ran independedent T-tests comparing the means of all continuous features of Parabolic vs Hyperparabolic"
   ]
  },
  {
   "cell_type": "markdown",
   "id": "7a4e7c80",
   "metadata": {},
   "source": [
    "### Based off the results of my independent T-test I determined the relevent features to be perihelion distance, the degree of the node, degree of perihelion, and the time of perihelion. So I generated histograms to explore these features."
   ]
  },
  {
   "cell_type": "code",
   "execution_count": 8,
   "id": "0cd0f506",
   "metadata": {},
   "outputs": [
    {
     "data": {
      "image/png": "[encoded data removed]",
      "text/plain": [
       "<Figure size 1440x576 with 2 Axes>"
      ]
     },
     "metadata": {},
     "output_type": "display_data"
    }
   ],
   "source": [
    "e.orbit_type_by_tp(train)"
   ]
  },
  {
   "cell_type": "code",
   "execution_count": 9,
   "id": "aa24d496",
   "metadata": {},
   "outputs": [
    {
     "data": {
      "image/png": "[encoded data removed]",
      "text/plain": [
       "<Figure size 1440x576 with 2 Axes>"
      ]
     },
     "metadata": {},
     "output_type": "display_data"
    }
   ],
   "source": [
    "e.orbit_type_by_om(train)"
   ]
  },
  {
   "cell_type": "code",
   "execution_count": 10,
   "id": "543f9600",
   "metadata": {},
   "outputs": [
    {
     "data": {
      "image/png": "[encoded data removed]",
      "text/plain": [
       "<Figure size 1440x576 with 2 Axes>"
      ]
     },
     "metadata": {},
     "output_type": "display_data"
    }
   ],
   "source": [
    "e.orbit_type_by_w(train)"
   ]
  },
  {
   "cell_type": "code",
   "execution_count": 11,
   "id": "747dfc0d",
   "metadata": {},
   "outputs": [
    {
     "data": {
      "image/png": "[encoded data removed]",
      "text/plain": [
       "<Figure size 1440x576 with 2 Axes>"
      ]
     },
     "metadata": {},
     "output_type": "display_data"
    }
   ],
   "source": [
    "e.orbit_type_by_q(train)"
   ]
  },
  {
   "cell_type": "markdown",
   "id": "a371a1f6",
   "metadata": {},
   "source": [
    "### These visualizations made it clear, that my data is not normally distributed. I decided to go back and use an independent statistical test where normalization is not assumed. I used the Mann-Whitney test, and ran all the continuous features"
   ]
  },
  {
   "cell_type": "code",
   "execution_count": 12,
   "id": "c73487e2",
   "metadata": {},
   "outputs": [
    {
     "data": {
      "text/html": [
       "<div>\n",
       "<style scoped>\n",
       "    .dataframe tbody tr th:only-of-type {\n",
       "        vertical-align: middle;\n",
       "    }\n",
       "\n",
       "    .dataframe tbody tr th {\n",
       "        vertical-align: top;\n",
       "    }\n",
       "\n",
       "    .dataframe thead th {\n",
       "        text-align: right;\n",
       "    }\n",
       "</style>\n",
       "<table border=\"1\" class=\"dataframe\">\n",
       "  <thead>\n",
       "    <tr style=\"text-align: right;\">\n",
       "      <th></th>\n",
       "      <th>Feature</th>\n",
       "      <th>t-stat</th>\n",
       "      <th>p-value</th>\n",
       "    </tr>\n",
       "  </thead>\n",
       "  <tbody>\n",
       "    <tr>\n",
       "      <th>0</th>\n",
       "      <td>peri_distance</td>\n",
       "      <td>233151.0</td>\n",
       "      <td>3.260610e-120</td>\n",
       "    </tr>\n",
       "    <tr>\n",
       "      <th>1</th>\n",
       "      <td>inclination</td>\n",
       "      <td>66727.5</td>\n",
       "      <td>4.950020e-27</td>\n",
       "    </tr>\n",
       "    <tr>\n",
       "      <th>2</th>\n",
       "      <td>node</td>\n",
       "      <td>154727.5</td>\n",
       "      <td>7.224151e-12</td>\n",
       "    </tr>\n",
       "    <tr>\n",
       "      <th>3</th>\n",
       "      <td>perihelion</td>\n",
       "      <td>167204.0</td>\n",
       "      <td>8.659769e-21</td>\n",
       "    </tr>\n",
       "    <tr>\n",
       "      <th>4</th>\n",
       "      <td>time_of_peri</td>\n",
       "      <td>146470.5</td>\n",
       "      <td>1.912381e-07</td>\n",
       "    </tr>\n",
       "    <tr>\n",
       "      <th>5</th>\n",
       "      <td>days_of_data_arc</td>\n",
       "      <td>237270.5</td>\n",
       "      <td>8.897453e-134</td>\n",
       "    </tr>\n",
       "  </tbody>\n",
       "</table>\n",
       "</div>"
      ],
      "text/plain": [
       "            Feature    t-stat        p-value\n",
       "0     peri_distance  233151.0  3.260610e-120\n",
       "1       inclination   66727.5   4.950020e-27\n",
       "2              node  154727.5   7.224151e-12\n",
       "3        perihelion  167204.0   8.659769e-21\n",
       "4      time_of_peri  146470.5   1.912381e-07\n",
       "5  days_of_data_arc  237270.5  8.897453e-134"
      ]
     },
     "execution_count": 12,
     "metadata": {},
     "output_type": "execute_result"
    }
   ],
   "source": [
    "e.Mann_Whitney_stats(train)"
   ]
  },
  {
   "cell_type": "markdown",
   "id": "ea5be02f",
   "metadata": {},
   "source": [
    "### by this statistical test we can see that all features are significant and should be used to create the best model."
   ]
  },
  {
   "cell_type": "markdown",
   "id": "31108347",
   "metadata": {},
   "source": [
    "# Modeling"
   ]
  },
  {
   "cell_type": "markdown",
   "id": "c19884bc",
   "metadata": {},
   "source": [
    "### Prepartaion for modeling requires scaling the data. I used a standard scaler"
   ]
  },
  {
   "cell_type": "markdown",
   "id": "5d218270",
   "metadata": {},
   "source": [
    "Standardization is a linear transformation of our data such that is looks like the standard normal distribution. That is, it will have a mean of 0 and a standard deviation of 1.\n",
    "\n",
    "x\n",
    "′\n",
    "=\n",
    "x\n",
    "−\n",
    "¯\n",
    "x\n",
    "σ\n",
    "x\n",
    "Sometimes this is split into two operations:\n",
    "\n",
    "scaling is dividing each data point by the standard deviation. This causes the resulting dataset to have a standard deviation of 1.\n",
    "centering is subtracting the mean from each data point. This causes the resulting dataset to have a mean of 0."
   ]
  },
  {
   "cell_type": "code",
   "execution_count": 13,
   "id": "92c57fee",
   "metadata": {},
   "outputs": [
    {
     "data": {
      "text/html": [
       "<div>\n",
       "<style scoped>\n",
       "    .dataframe tbody tr th:only-of-type {\n",
       "        vertical-align: middle;\n",
       "    }\n",
       "\n",
       "    .dataframe tbody tr th {\n",
       "        vertical-align: top;\n",
       "    }\n",
       "\n",
       "    .dataframe thead th {\n",
       "        text-align: right;\n",
       "    }\n",
       "</style>\n",
       "<table border=\"1\" class=\"dataframe\">\n",
       "  <thead>\n",
       "    <tr style=\"text-align: right;\">\n",
       "      <th></th>\n",
       "      <th>Feature</th>\n",
       "      <th>Mean</th>\n",
       "      <th>Standard Deviation</th>\n",
       "      <th>Skew</th>\n",
       "      <th>Sharpness</th>\n",
       "    </tr>\n",
       "  </thead>\n",
       "  <tbody>\n",
       "    <tr>\n",
       "      <th>0</th>\n",
       "      <td>peri_distance</td>\n",
       "      <td>0.690349</td>\n",
       "      <td>1.601073</td>\n",
       "      <td>3.164462</td>\n",
       "      <td>10.536952</td>\n",
       "    </tr>\n",
       "    <tr>\n",
       "      <th>1</th>\n",
       "      <td>inclination</td>\n",
       "      <td>118.911531</td>\n",
       "      <td>40.040322</td>\n",
       "      <td>-1.341428</td>\n",
       "      <td>0.572725</td>\n",
       "    </tr>\n",
       "    <tr>\n",
       "      <th>2</th>\n",
       "      <td>node</td>\n",
       "      <td>144.017607</td>\n",
       "      <td>141.700618</td>\n",
       "      <td>0.422364</td>\n",
       "      <td>-1.546508</td>\n",
       "    </tr>\n",
       "    <tr>\n",
       "      <th>3</th>\n",
       "      <td>perihelion</td>\n",
       "      <td>107.091386</td>\n",
       "      <td>75.447557</td>\n",
       "      <td>1.852627</td>\n",
       "      <td>2.659769</td>\n",
       "    </tr>\n",
       "    <tr>\n",
       "      <th>4</th>\n",
       "      <td>time_of_peri</td>\n",
       "      <td>1958.578566</td>\n",
       "      <td>155.883001</td>\n",
       "      <td>-5.688438</td>\n",
       "      <td>39.495091</td>\n",
       "    </tr>\n",
       "    <tr>\n",
       "      <th>5</th>\n",
       "      <td>days_of_data_arc</td>\n",
       "      <td>126.277196</td>\n",
       "      <td>377.852637</td>\n",
       "      <td>5.070218</td>\n",
       "      <td>38.327365</td>\n",
       "    </tr>\n",
       "  </tbody>\n",
       "</table>\n",
       "</div>"
      ],
      "text/plain": [
       "            Feature         Mean  Standard Deviation      Skew  Sharpness\n",
       "0     peri_distance     0.690349            1.601073  3.164462  10.536952\n",
       "1       inclination   118.911531           40.040322 -1.341428   0.572725\n",
       "2              node   144.017607          141.700618  0.422364  -1.546508\n",
       "3        perihelion   107.091386           75.447557  1.852627   2.659769\n",
       "4      time_of_peri  1958.578566          155.883001 -5.688438  39.495091\n",
       "5  days_of_data_arc   126.277196          377.852637  5.070218  38.327365"
      ]
     },
     "execution_count": 13,
     "metadata": {},
     "output_type": "execute_result"
    }
   ],
   "source": [
    "# here is a display of the mean, standard deviation, skew, \n",
    "# and sharpness of the original data\n",
    "e.display_stat(train)"
   ]
  },
  {
   "cell_type": "code",
   "execution_count": 14,
   "id": "87218286",
   "metadata": {},
   "outputs": [],
   "source": [
    "# scaling data\n",
    "train_scaled, validate_scaled, test_scaled = m.Scaled_Data(train_X, validate_X, test_X)"
   ]
  },
  {
   "cell_type": "code",
   "execution_count": 15,
   "id": "cc57fa68",
   "metadata": {},
   "outputs": [
    {
     "data": {
      "text/html": [
       "<div>\n",
       "<style scoped>\n",
       "    .dataframe tbody tr th:only-of-type {\n",
       "        vertical-align: middle;\n",
       "    }\n",
       "\n",
       "    .dataframe tbody tr th {\n",
       "        vertical-align: top;\n",
       "    }\n",
       "\n",
       "    .dataframe thead th {\n",
       "        text-align: right;\n",
       "    }\n",
       "</style>\n",
       "<table border=\"1\" class=\"dataframe\">\n",
       "  <thead>\n",
       "    <tr style=\"text-align: right;\">\n",
       "      <th></th>\n",
       "      <th>Feature</th>\n",
       "      <th>Mean</th>\n",
       "      <th>Standard Deviation</th>\n",
       "      <th>Skew</th>\n",
       "      <th>Sharpness</th>\n",
       "    </tr>\n",
       "  </thead>\n",
       "  <tbody>\n",
       "    <tr>\n",
       "      <th>0</th>\n",
       "      <td>peri_distance</td>\n",
       "      <td>-1.227418e-16</td>\n",
       "      <td>1.000403</td>\n",
       "      <td>3.164462</td>\n",
       "      <td>10.536952</td>\n",
       "    </tr>\n",
       "    <tr>\n",
       "      <th>1</th>\n",
       "      <td>inclination</td>\n",
       "      <td>3.023815e-16</td>\n",
       "      <td>1.000403</td>\n",
       "      <td>-1.341428</td>\n",
       "      <td>0.572725</td>\n",
       "    </tr>\n",
       "    <tr>\n",
       "      <th>2</th>\n",
       "      <td>node</td>\n",
       "      <td>7.622160e-17</td>\n",
       "      <td>1.000403</td>\n",
       "      <td>0.422364</td>\n",
       "      <td>-1.546508</td>\n",
       "    </tr>\n",
       "    <tr>\n",
       "      <th>3</th>\n",
       "      <td>perihelion</td>\n",
       "      <td>3.077492e-17</td>\n",
       "      <td>1.000403</td>\n",
       "      <td>1.852627</td>\n",
       "      <td>2.659769</td>\n",
       "    </tr>\n",
       "    <tr>\n",
       "      <th>4</th>\n",
       "      <td>time_of_peri</td>\n",
       "      <td>2.989819e-16</td>\n",
       "      <td>1.000403</td>\n",
       "      <td>-5.688438</td>\n",
       "      <td>39.495091</td>\n",
       "    </tr>\n",
       "    <tr>\n",
       "      <th>5</th>\n",
       "      <td>days_of_data_arc</td>\n",
       "      <td>3.086438e-18</td>\n",
       "      <td>1.000403</td>\n",
       "      <td>5.070218</td>\n",
       "      <td>38.327365</td>\n",
       "    </tr>\n",
       "  </tbody>\n",
       "</table>\n",
       "</div>"
      ],
      "text/plain": [
       "            Feature          Mean  Standard Deviation      Skew  Sharpness\n",
       "0     peri_distance -1.227418e-16            1.000403  3.164462  10.536952\n",
       "1       inclination  3.023815e-16            1.000403 -1.341428   0.572725\n",
       "2              node  7.622160e-17            1.000403  0.422364  -1.546508\n",
       "3        perihelion  3.077492e-17            1.000403  1.852627   2.659769\n",
       "4      time_of_peri  2.989819e-16            1.000403 -5.688438  39.495091\n",
       "5  days_of_data_arc  3.086438e-18            1.000403  5.070218  38.327365"
      ]
     },
     "execution_count": 15,
     "metadata": {},
     "output_type": "execute_result"
    }
   ],
   "source": [
    "# display of new stats after scaling\n",
    "e.display_stat(train_scaled)"
   ]
  },
  {
   "cell_type": "markdown",
   "id": "5d5b1948",
   "metadata": {},
   "source": [
    "## Running the Models"
   ]
  },
  {
   "cell_type": "code",
   "execution_count": 16,
   "id": "177da40b",
   "metadata": {},
   "outputs": [
    {
     "data": {
      "text/html": [
       "<div>\n",
       "<style scoped>\n",
       "    .dataframe tbody tr th:only-of-type {\n",
       "        vertical-align: middle;\n",
       "    }\n",
       "\n",
       "    .dataframe tbody tr th {\n",
       "        vertical-align: top;\n",
       "    }\n",
       "\n",
       "    .dataframe thead th {\n",
       "        text-align: right;\n",
       "    }\n",
       "</style>\n",
       "<table border=\"1\" class=\"dataframe\">\n",
       "  <thead>\n",
       "    <tr style=\"text-align: right;\">\n",
       "      <th></th>\n",
       "      <th>Model</th>\n",
       "      <th>Train Accuracy</th>\n",
       "      <th>Validate Accuracy</th>\n",
       "    </tr>\n",
       "  </thead>\n",
       "  <tbody>\n",
       "    <tr>\n",
       "      <th>0</th>\n",
       "      <td>KNN</td>\n",
       "      <td>0.979855</td>\n",
       "      <td>0.984991</td>\n",
       "    </tr>\n",
       "    <tr>\n",
       "      <th>1</th>\n",
       "      <td>Logistic Regression</td>\n",
       "      <td>0.986301</td>\n",
       "      <td>0.983114</td>\n",
       "    </tr>\n",
       "    <tr>\n",
       "      <th>2</th>\n",
       "      <td>Decision Tree</td>\n",
       "      <td>0.991942</td>\n",
       "      <td>0.984991</td>\n",
       "    </tr>\n",
       "    <tr>\n",
       "      <th>3</th>\n",
       "      <td>Random Forest</td>\n",
       "      <td>0.987107</td>\n",
       "      <td>0.988743</td>\n",
       "    </tr>\n",
       "  </tbody>\n",
       "</table>\n",
       "</div>"
      ],
      "text/plain": [
       "                 Model  Train Accuracy  Validate Accuracy\n",
       "0                  KNN        0.979855           0.984991\n",
       "1  Logistic Regression        0.986301           0.983114\n",
       "2        Decision Tree        0.991942           0.984991\n",
       "3        Random Forest        0.987107           0.988743"
      ]
     },
     "execution_count": 16,
     "metadata": {},
     "output_type": "execute_result"
    }
   ],
   "source": [
    "m.model_results(train_scaled, validate_scaled, train_y, validate_y)"
   ]
  },
  {
   "cell_type": "markdown",
   "id": "5f36e031",
   "metadata": {},
   "source": [
    "# amazing results! My model beat baseline by 20%"
   ]
  },
  {
   "cell_type": "code",
   "execution_count": 17,
   "id": "1d71943f",
   "metadata": {},
   "outputs": [
    {
     "name": "stdout",
     "output_type": "stream",
     "text": [
      "Accuracy of Logistic Regression on train is 0.9707207207207207\n"
     ]
    }
   ],
   "source": [
    "final_results = m.test_model(test_scaled, test_y)"
   ]
  },
  {
   "cell_type": "markdown",
   "id": "eb7e1412",
   "metadata": {},
   "source": [
    "# test model performed more poorly on the test dataset, but still beat baseline by 18%"
   ]
  },
  {
   "cell_type": "code",
   "execution_count": null,
   "id": "96dae7e0",
   "metadata": {},
   "outputs": [],
   "source": []
  }
 ],
 "metadata": {
  "kernelspec": {
   "display_name": "Python 3 (ipykernel)",
   "language": "python",
   "name": "python3"
  },
  "language_info": {
   "codemirror_mode": {
    "name": "ipython",
    "version": 3
   },
   "file_extension": ".py",
   "mimetype": "text/x-python",
   "name": "python",
   "nbconvert_exporter": "python",
   "pygments_lexer": "ipython3",
   "version": "3.9.12"
  }
 },
 "nbformat": 4,
 "nbformat_minor": 5
}
