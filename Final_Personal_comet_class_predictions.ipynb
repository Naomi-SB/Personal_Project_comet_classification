{
 "cells": [
  {
   "cell_type": "code",
   "execution_count": 1,
   "id": "acc81b04",
   "metadata": {},
   "outputs": [],
   "source": [
    "import pandas as pd\n",
    "import seaborn as sns\n",
    "import matplotlib.pyplot as plt\n",
    "from matplotlib import rcParams\n",
    "from pydataset import data\n",
    "import numpy as np\n",
    "import os\n",
    "import scipy.stats as stats\n",
    "from scipy.stats import mannwhitneyu\n",
    "\n",
    "from sklearn.model_selection import train_test_split\n",
    "import sklearn.preprocessing\n",
    "from sklearn.tree import DecisionTreeClassifier, plot_tree\n",
    "from sklearn.neighbors import KNeighborsClassifier\n",
    "from sklearn.ensemble import RandomForestClassifier\n",
    "from sklearn.linear_model import LogisticRegression\n",
    "from sklearn.metrics import confusion_matrix, plot_confusion_matrix, ConfusionMatrixDisplay, classification_report\n",
    "alpha = 0.05\n",
    "\n",
    "import prepare as p\n",
    "import model as m\n",
    "import explore as e\n",
    "import acquire as a\n",
    "from env import get_db_url\n",
    "\n",
    "#turn off pink warning boxes\n",
    "import warnings\n",
    "warnings.filterwarnings(\"ignore\")"
   ]
  },
  {
   "cell_type": "markdown",
   "id": "ce44a327",
   "metadata": {},
   "source": [
    "# aquiring raw data"
   ]
  },
  {
   "cell_type": "code",
   "execution_count": 2,
   "id": "e9fbc1c9",
   "metadata": {},
   "outputs": [],
   "source": [
    "df = a.get_comet_data()"
   ]
  },
  {
   "cell_type": "code",
   "execution_count": 3,
   "id": "e24f47b2",
   "metadata": {},
   "outputs": [
    {
     "data": {
      "text/html": [
       "<div>\n",
       "<style scoped>\n",
       "    .dataframe tbody tr th:only-of-type {\n",
       "        vertical-align: middle;\n",
       "    }\n",
       "\n",
       "    .dataframe tbody tr th {\n",
       "        vertical-align: top;\n",
       "    }\n",
       "\n",
       "    .dataframe thead th {\n",
       "        text-align: right;\n",
       "    }\n",
       "</style>\n",
       "<table border=\"1\" class=\"dataframe\">\n",
       "  <thead>\n",
       "    <tr style=\"text-align: right;\">\n",
       "      <th></th>\n",
       "      <th>full_name</th>\n",
       "      <th>e</th>\n",
       "      <th>q</th>\n",
       "      <th>i</th>\n",
       "      <th>om</th>\n",
       "      <th>w</th>\n",
       "      <th>ad</th>\n",
       "      <th>tp_cal</th>\n",
       "      <th>per_y</th>\n",
       "      <th>class</th>\n",
       "      <th>data_arc</th>\n",
       "      <th>condition_code</th>\n",
       "      <th>n_obs_used</th>\n",
       "      <th>two_body</th>\n",
       "      <th>A1</th>\n",
       "      <th>A2</th>\n",
       "      <th>A3</th>\n",
       "      <th>DT</th>\n",
       "    </tr>\n",
       "  </thead>\n",
       "  <tbody>\n",
       "    <tr>\n",
       "      <th>0</th>\n",
       "      <td>C/-146 P1</td>\n",
       "      <td>1.0</td>\n",
       "      <td>0.43</td>\n",
       "      <td>71.0</td>\n",
       "      <td>330.0</td>\n",
       "      <td>261.0</td>\n",
       "      <td>NaN</td>\n",
       "      <td>-146-06-28.0</td>\n",
       "      <td>NaN</td>\n",
       "      <td>PAR</td>\n",
       "      <td>5.0</td>\n",
       "      <td>NaN</td>\n",
       "      <td>4.0</td>\n",
       "      <td>T</td>\n",
       "      <td>NaN</td>\n",
       "      <td>NaN</td>\n",
       "      <td>NaN</td>\n",
       "      <td>NaN</td>\n",
       "    </tr>\n",
       "    <tr>\n",
       "      <th>1</th>\n",
       "      <td>C/-43 K1</td>\n",
       "      <td>1.0</td>\n",
       "      <td>0.22</td>\n",
       "      <td>110.0</td>\n",
       "      <td>170.0</td>\n",
       "      <td>17.0</td>\n",
       "      <td>NaN</td>\n",
       "      <td>-043-05-25.0</td>\n",
       "      <td>NaN</td>\n",
       "      <td>PAR</td>\n",
       "      <td>54.0</td>\n",
       "      <td>NaN</td>\n",
       "      <td>NaN</td>\n",
       "      <td>T</td>\n",
       "      <td>NaN</td>\n",
       "      <td>NaN</td>\n",
       "      <td>NaN</td>\n",
       "      <td>NaN</td>\n",
       "    </tr>\n",
       "    <tr>\n",
       "      <th>2</th>\n",
       "      <td>C/240 V1</td>\n",
       "      <td>1.0</td>\n",
       "      <td>0.37</td>\n",
       "      <td>44.0</td>\n",
       "      <td>214.0</td>\n",
       "      <td>82.0</td>\n",
       "      <td>NaN</td>\n",
       "      <td>0240-11-10.0</td>\n",
       "      <td>NaN</td>\n",
       "      <td>PAR</td>\n",
       "      <td>39.0</td>\n",
       "      <td>NaN</td>\n",
       "      <td>NaN</td>\n",
       "      <td>T</td>\n",
       "      <td>NaN</td>\n",
       "      <td>NaN</td>\n",
       "      <td>NaN</td>\n",
       "      <td>NaN</td>\n",
       "    </tr>\n",
       "  </tbody>\n",
       "</table>\n",
       "</div>"
      ],
      "text/plain": [
       "        full_name    e     q      i     om      w  ad        tp_cal  per_y  \\\n",
       "0       C/-146 P1  1.0  0.43   71.0  330.0  261.0 NaN  -146-06-28.0    NaN   \n",
       "1        C/-43 K1  1.0  0.22  110.0  170.0   17.0 NaN  -043-05-25.0    NaN   \n",
       "2        C/240 V1  1.0  0.37   44.0  214.0   82.0 NaN  0240-11-10.0    NaN   \n",
       "\n",
       "  class  data_arc  condition_code  n_obs_used two_body  A1  A2  A3  DT  \n",
       "0   PAR       5.0             NaN         4.0        T NaN NaN NaN NaN  \n",
       "1   PAR      54.0             NaN         NaN        T NaN NaN NaN NaN  \n",
       "2   PAR      39.0             NaN         NaN        T NaN NaN NaN NaN  "
      ]
     },
     "execution_count": 3,
     "metadata": {},
     "output_type": "execute_result"
    }
   ],
   "source": [
    "df.head(3)"
   ]
  },
  {
   "cell_type": "markdown",
   "id": "d016f0e8",
   "metadata": {},
   "source": [
    "# preparing data"
   ]
  },
  {
   "cell_type": "markdown",
   "id": "4f043f16",
   "metadata": {},
   "source": [
    "| Feature | Definition | Reason |\n",
    "|:--------|:-----------|:----------|\n",
    "|<img width=50/>|<img width=100/>|<img width=50/>|<img width=150/>|\n",
    "|||**Dropped Columns**\n",
    "|<img width=50/>|<img width=100/>|<img width=50/>|<img width=150/>|\n",
    "|*e*|  eccentricity | The eccentricity defines the orbit class\n",
    "|*A1*| non-grav radial parameter | Excessive null values\n",
    "|*A2*| non-grav transverse parameter | Excessive null values\n",
    "|*A3*| non-grav normal parameter | Excessive null values\n",
    "|*D*| non-gravperihelion maximum offset | Excessive null values\n",
    "|||**Dropped Rows**\n",
    "<img width=50/>|<img width=100/>|<img width=50/>|<img width=150/>|\n",
    "|*2 rows for tp_cal*| time of perihelion calculated | Dates were negative; assuming this means B.C.E\n",
    "|*3 rows for data_arc *| Number of days spanned by the data arc | null values could not be imputed\n",
    "|||**Altered Data**\n",
    "||<img width=150/>|<img width=550/>|\n",
    "|*tp_cal*| time of perihelion calculated | object data type could not be converted in Pandas as the time span is too large. Modified by dropping month, day, and time information. Resulting year was converted to int64|\n",
    "|*two_body*| two-body dynamics used | Original data was T/F. Used dummies to get three columns for True, False, and Nans\n",
    "|*full_name*| the name of the comet | Fit to index|\n",
    "|*All*| all columns | Name changed to be more human readable|"
   ]
  },
  {
   "cell_type": "code",
   "execution_count": 4,
   "id": "c3a465df",
   "metadata": {},
   "outputs": [],
   "source": [
    "df = p.pre_processing(df)"
   ]
  },
  {
   "cell_type": "code",
   "execution_count": 5,
   "id": "a67d0335",
   "metadata": {},
   "outputs": [
    {
     "data": {
      "text/html": [
       "<div>\n",
       "<style scoped>\n",
       "    .dataframe tbody tr th:only-of-type {\n",
       "        vertical-align: middle;\n",
       "    }\n",
       "\n",
       "    .dataframe tbody tr th {\n",
       "        vertical-align: top;\n",
       "    }\n",
       "\n",
       "    .dataframe thead th {\n",
       "        text-align: right;\n",
       "    }\n",
       "</style>\n",
       "<table border=\"1\" class=\"dataframe\">\n",
       "  <thead>\n",
       "    <tr style=\"text-align: right;\">\n",
       "      <th></th>\n",
       "      <th>orbit</th>\n",
       "      <th>perihelion</th>\n",
       "      <th>peri_distance</th>\n",
       "      <th>time_of_peri</th>\n",
       "      <th>inclination</th>\n",
       "      <th>node</th>\n",
       "      <th>days_of_data_arc</th>\n",
       "      <th>two_body_T</th>\n",
       "      <th>two_body_F</th>\n",
       "      <th>two_body_nan</th>\n",
       "    </tr>\n",
       "    <tr>\n",
       "      <th>full_name</th>\n",
       "      <th></th>\n",
       "      <th></th>\n",
       "      <th></th>\n",
       "      <th></th>\n",
       "      <th></th>\n",
       "      <th></th>\n",
       "      <th></th>\n",
       "      <th></th>\n",
       "      <th></th>\n",
       "      <th></th>\n",
       "    </tr>\n",
       "  </thead>\n",
       "  <tbody>\n",
       "    <tr>\n",
       "      <th>C/240 V1</th>\n",
       "      <td>PAR</td>\n",
       "      <td>82.0</td>\n",
       "      <td>0.37</td>\n",
       "      <td>240</td>\n",
       "      <td>44.0</td>\n",
       "      <td>214.0</td>\n",
       "      <td>39.0</td>\n",
       "      <td>1</td>\n",
       "      <td>0</td>\n",
       "      <td>0</td>\n",
       "    </tr>\n",
       "    <tr>\n",
       "      <th>C/390 Q1</th>\n",
       "      <td>PAR</td>\n",
       "      <td>23.0</td>\n",
       "      <td>0.92</td>\n",
       "      <td>390</td>\n",
       "      <td>36.0</td>\n",
       "      <td>356.0</td>\n",
       "      <td>26.0</td>\n",
       "      <td>1</td>\n",
       "      <td>0</td>\n",
       "      <td>0</td>\n",
       "    </tr>\n",
       "    <tr>\n",
       "      <th>C/400 F1</th>\n",
       "      <td>PAR</td>\n",
       "      <td>47.0</td>\n",
       "      <td>0.21</td>\n",
       "      <td>400</td>\n",
       "      <td>32.0</td>\n",
       "      <td>38.0</td>\n",
       "      <td>22.0</td>\n",
       "      <td>1</td>\n",
       "      <td>0</td>\n",
       "      <td>0</td>\n",
       "    </tr>\n",
       "  </tbody>\n",
       "</table>\n",
       "</div>"
      ],
      "text/plain": [
       "              orbit  perihelion  peri_distance  time_of_peri  inclination  \\\n",
       "full_name                                                                   \n",
       "     C/240 V1   PAR        82.0           0.37           240         44.0   \n",
       "     C/390 Q1   PAR        23.0           0.92           390         36.0   \n",
       "     C/400 F1   PAR        47.0           0.21           400         32.0   \n",
       "\n",
       "                node  days_of_data_arc  two_body_T  two_body_F  two_body_nan  \n",
       "full_name                                                                     \n",
       "     C/240 V1  214.0              39.0           1           0             0  \n",
       "     C/390 Q1  356.0              26.0           1           0             0  \n",
       "     C/400 F1   38.0              22.0           1           0             0  "
      ]
     },
     "execution_count": 5,
     "metadata": {},
     "output_type": "execute_result"
    }
   ],
   "source": [
    "df.head(3)"
   ]
  },
  {
   "cell_type": "markdown",
   "id": "4f83fb62",
   "metadata": {},
   "source": [
    "## Feature Dictionary"
   ]
  },
  {
   "cell_type": "markdown",
   "id": "14e64b50",
   "metadata": {},
   "source": [
    "| Feature | Definition | Layman's Terms |\n",
    "|:--------|:-----------|:----------|\n",
    "|<img width=50/>|<img width=100/>|<img width=50/>|<img width=150/>|\n",
    "|||**Data**\n",
    "|<img width=50/>|<img width=100/>|<img width=50/>|<img width=150/>|\n",
    "|*perihelion*|  The point nearest to the sun in the path of an orbiting celestial body  | Where the comet is closest to the sun\n",
    "|*peri_distance*| The distance between the sun and an orbiting body when it at perihelion | How far the comet is from the sun when it is as close as it gets to the sun\n",
    "|*time_of_peri*| The calculated time period of perihelion | What day on Earth it was/will be when the comet was closest to the sun\n",
    "|*inclination*| the angle between the orbital plane of the object and the plane of the ecliptic | Measures the tilt of the comet's orbit\n",
    "|*node*| the intersection of the orbit plane of some celestial body with the plane of the ecliptic  | The point where inclination 'pokes through'\n",
    "|*days_of_data_arc*| the time period between its earliest and latest observations, used for tracing the body's path | The number of days the comet could be observed\n",
    "|||**Two Body**\n",
    "|*two_body*| two-body dynamics used |\n",
    "|*True *| Number of days spanned by the data arc | null values could not be imputed\n",
    "|*False*| time of perihelion calculated | object data type could not be converted in Pandas as the time span is too large. Modified by dropping month, day, and time information. Resulting year was converted to int64|\n",
    "|*nan*| two-body dynamics used | Original data was T/F. Used dummies to get three columns for True, False, and Nans\n"
   ]
  },
  {
   "cell_type": "markdown",
   "id": "03c65988",
   "metadata": {},
   "source": [
    "# Data Split"
   ]
  },
  {
   "cell_type": "code",
   "execution_count": 6,
   "id": "1e59821a",
   "metadata": {},
   "outputs": [],
   "source": [
    "#splits data into three data frames called train, validate, and test\n",
    "train, validate, test = p.split_data(df)"
   ]
  },
  {
   "cell_type": "code",
   "execution_count": 7,
   "id": "d178c173",
   "metadata": {},
   "outputs": [],
   "source": [
    "#splits the three data sets into six more witht the three y frames isolating the target variable\n",
    "train_X, validate_X, test_X, train_y, validate_y, test_y = p.final_split(df, 'orbit')"
   ]
  },
  {
   "cell_type": "markdown",
   "id": "58d20913",
   "metadata": {},
   "source": [
    "# Exploration"
   ]
  },
  {
   "cell_type": "markdown",
   "id": "0d5fa5c3",
   "metadata": {},
   "source": [
    " ### For this project I began my exploration by jumping right into statistical testing. I set parameters to separte the data based on orbit class and ran independedent T-tests comparing the means of all continuous features of Parabolic vs Hyperparabolic"
   ]
  },
  {
   "cell_type": "markdown",
   "id": "41a26c03",
   "metadata": {},
   "source": [
    "### Based off the results of my independent T-test I determined the relevent features to be perihelion distance, the degree of the node, degree of perihelion, and the time of perihelion. So I generated histograms to explore these features."
   ]
  },
  {
   "cell_type": "code",
   "execution_count": 8,
   "id": "f52ecaf6",
   "metadata": {},
   "outputs": [],
   "source": [
    "#e.orbit_type_by_tp(train)"
   ]
  },
  {
   "cell_type": "code",
   "execution_count": 9,
   "id": "d1de240a",
   "metadata": {},
   "outputs": [],
   "source": [
    "#e.orbit_type_by_om(train)"
   ]
  },
  {
   "cell_type": "code",
   "execution_count": 10,
   "id": "23c206f5",
   "metadata": {},
   "outputs": [],
   "source": [
    "#e.orbit_type_by_w(train)"
   ]
  },
  {
   "cell_type": "code",
   "execution_count": 11,
   "id": "148d8078",
   "metadata": {},
   "outputs": [],
   "source": [
    "#e.orbit_type_by_q(train)"
   ]
  },
  {
   "cell_type": "markdown",
   "id": "1cfc16f6",
   "metadata": {},
   "source": [
    "### These visualizations made it clear, that my data is not normally distributed. I decided to go back and use an independent statistical test where normalization is not assumed. I used the Mann-Whitney test, and ran all the continuous features"
   ]
  },
  {
   "cell_type": "code",
   "execution_count": 12,
   "id": "513cabbb",
   "metadata": {},
   "outputs": [
    {
     "data": {
      "text/html": [
       "<div>\n",
       "<style scoped>\n",
       "    .dataframe tbody tr th:only-of-type {\n",
       "        vertical-align: middle;\n",
       "    }\n",
       "\n",
       "    .dataframe tbody tr th {\n",
       "        vertical-align: top;\n",
       "    }\n",
       "\n",
       "    .dataframe thead th {\n",
       "        text-align: right;\n",
       "    }\n",
       "</style>\n",
       "<table border=\"1\" class=\"dataframe\">\n",
       "  <thead>\n",
       "    <tr style=\"text-align: right;\">\n",
       "      <th></th>\n",
       "      <th>Feature</th>\n",
       "      <th>t-stat</th>\n",
       "      <th>p-value</th>\n",
       "    </tr>\n",
       "  </thead>\n",
       "  <tbody>\n",
       "    <tr>\n",
       "      <th>0</th>\n",
       "      <td>peri_distance</td>\n",
       "      <td>233151.0</td>\n",
       "      <td>3.260610e-120</td>\n",
       "    </tr>\n",
       "    <tr>\n",
       "      <th>1</th>\n",
       "      <td>inclination</td>\n",
       "      <td>66727.5</td>\n",
       "      <td>4.950020e-27</td>\n",
       "    </tr>\n",
       "    <tr>\n",
       "      <th>2</th>\n",
       "      <td>node</td>\n",
       "      <td>154727.5</td>\n",
       "      <td>7.224151e-12</td>\n",
       "    </tr>\n",
       "    <tr>\n",
       "      <th>3</th>\n",
       "      <td>perihelion</td>\n",
       "      <td>167204.0</td>\n",
       "      <td>8.659769e-21</td>\n",
       "    </tr>\n",
       "    <tr>\n",
       "      <th>4</th>\n",
       "      <td>time_of_peri</td>\n",
       "      <td>146470.5</td>\n",
       "      <td>1.912381e-07</td>\n",
       "    </tr>\n",
       "    <tr>\n",
       "      <th>5</th>\n",
       "      <td>days_of_data_arc</td>\n",
       "      <td>237270.5</td>\n",
       "      <td>8.897453e-134</td>\n",
       "    </tr>\n",
       "  </tbody>\n",
       "</table>\n",
       "</div>"
      ],
      "text/plain": [
       "            Feature    t-stat        p-value\n",
       "0     peri_distance  233151.0  3.260610e-120\n",
       "1       inclination   66727.5   4.950020e-27\n",
       "2              node  154727.5   7.224151e-12\n",
       "3        perihelion  167204.0   8.659769e-21\n",
       "4      time_of_peri  146470.5   1.912381e-07\n",
       "5  days_of_data_arc  237270.5  8.897453e-134"
      ]
     },
     "execution_count": 12,
     "metadata": {},
     "output_type": "execute_result"
    }
   ],
   "source": [
    "e.Mann_Whitney_stats(train)"
   ]
  },
  {
   "cell_type": "markdown",
   "id": "42341ba6",
   "metadata": {},
   "source": [
    "### by this statistical test we can see that all features are significant and should be used to create the best model."
   ]
  },
  {
   "cell_type": "markdown",
   "id": "cc84d75e",
   "metadata": {},
   "source": [
    "# Modeling"
   ]
  },
  {
   "cell_type": "markdown",
   "id": "c0dcc9cd",
   "metadata": {},
   "source": [
    "### Prepartaion for modeling requires scaling the data. I used a standard scaler"
   ]
  },
  {
   "cell_type": "markdown",
   "id": "bc867c78",
   "metadata": {},
   "source": [
    "Standardization is a linear transformation of our data such that is looks like the standard normal distribution. That is, it will have a mean of 0 and a standard deviation of 1.\n",
    "\n",
    "x\n",
    "′\n",
    "=\n",
    "x\n",
    "−\n",
    "¯\n",
    "x\n",
    "σ\n",
    "x\n",
    "Sometimes this is split into two operations:\n",
    "\n",
    "scaling is dividing each data point by the standard deviation. This causes the resulting dataset to have a standard deviation of 1.\n",
    "centering is subtracting the mean from each data point. This causes the resulting dataset to have a mean of 0."
   ]
  },
  {
   "cell_type": "code",
   "execution_count": 13,
   "id": "3d6d4be8",
   "metadata": {},
   "outputs": [
    {
     "data": {
      "text/html": [
       "<div>\n",
       "<style scoped>\n",
       "    .dataframe tbody tr th:only-of-type {\n",
       "        vertical-align: middle;\n",
       "    }\n",
       "\n",
       "    .dataframe tbody tr th {\n",
       "        vertical-align: top;\n",
       "    }\n",
       "\n",
       "    .dataframe thead th {\n",
       "        text-align: right;\n",
       "    }\n",
       "</style>\n",
       "<table border=\"1\" class=\"dataframe\">\n",
       "  <thead>\n",
       "    <tr style=\"text-align: right;\">\n",
       "      <th></th>\n",
       "      <th>Feature</th>\n",
       "      <th>Mean</th>\n",
       "      <th>Standard Deviation</th>\n",
       "      <th>Skew</th>\n",
       "      <th>Sharpness</th>\n",
       "    </tr>\n",
       "  </thead>\n",
       "  <tbody>\n",
       "    <tr>\n",
       "      <th>0</th>\n",
       "      <td>peri_distance</td>\n",
       "      <td>0.690349</td>\n",
       "      <td>1.601073</td>\n",
       "      <td>3.164462</td>\n",
       "      <td>10.536952</td>\n",
       "    </tr>\n",
       "    <tr>\n",
       "      <th>1</th>\n",
       "      <td>inclination</td>\n",
       "      <td>118.911531</td>\n",
       "      <td>40.040322</td>\n",
       "      <td>-1.341428</td>\n",
       "      <td>0.572725</td>\n",
       "    </tr>\n",
       "    <tr>\n",
       "      <th>2</th>\n",
       "      <td>node</td>\n",
       "      <td>144.017607</td>\n",
       "      <td>141.700618</td>\n",
       "      <td>0.422364</td>\n",
       "      <td>-1.546508</td>\n",
       "    </tr>\n",
       "    <tr>\n",
       "      <th>3</th>\n",
       "      <td>perihelion</td>\n",
       "      <td>107.091386</td>\n",
       "      <td>75.447557</td>\n",
       "      <td>1.852627</td>\n",
       "      <td>2.659769</td>\n",
       "    </tr>\n",
       "    <tr>\n",
       "      <th>4</th>\n",
       "      <td>time_of_peri</td>\n",
       "      <td>1958.578566</td>\n",
       "      <td>155.883001</td>\n",
       "      <td>-5.688438</td>\n",
       "      <td>39.495091</td>\n",
       "    </tr>\n",
       "    <tr>\n",
       "      <th>5</th>\n",
       "      <td>days_of_data_arc</td>\n",
       "      <td>126.277196</td>\n",
       "      <td>377.852637</td>\n",
       "      <td>5.070218</td>\n",
       "      <td>38.327365</td>\n",
       "    </tr>\n",
       "  </tbody>\n",
       "</table>\n",
       "</div>"
      ],
      "text/plain": [
       "            Feature         Mean  Standard Deviation      Skew  Sharpness\n",
       "0     peri_distance     0.690349            1.601073  3.164462  10.536952\n",
       "1       inclination   118.911531           40.040322 -1.341428   0.572725\n",
       "2              node   144.017607          141.700618  0.422364  -1.546508\n",
       "3        perihelion   107.091386           75.447557  1.852627   2.659769\n",
       "4      time_of_peri  1958.578566          155.883001 -5.688438  39.495091\n",
       "5  days_of_data_arc   126.277196          377.852637  5.070218  38.327365"
      ]
     },
     "execution_count": 13,
     "metadata": {},
     "output_type": "execute_result"
    }
   ],
   "source": [
    "# here is a display of the mean, standard deviation, skew, \n",
    "# and sharpness of the original data\n",
    "e.display_stat(train)"
   ]
  },
  {
   "cell_type": "code",
   "execution_count": 14,
   "id": "5a946501",
   "metadata": {},
   "outputs": [],
   "source": [
    "# scaling data\n",
    "train_scaled, validate_scaled, test_scaled = m.Scaled_Data(train_X, validate_X, test_X)"
   ]
  },
  {
   "cell_type": "code",
   "execution_count": 15,
   "id": "2cbd43c4",
   "metadata": {},
   "outputs": [
    {
     "data": {
      "text/html": [
       "<div>\n",
       "<style scoped>\n",
       "    .dataframe tbody tr th:only-of-type {\n",
       "        vertical-align: middle;\n",
       "    }\n",
       "\n",
       "    .dataframe tbody tr th {\n",
       "        vertical-align: top;\n",
       "    }\n",
       "\n",
       "    .dataframe thead th {\n",
       "        text-align: right;\n",
       "    }\n",
       "</style>\n",
       "<table border=\"1\" class=\"dataframe\">\n",
       "  <thead>\n",
       "    <tr style=\"text-align: right;\">\n",
       "      <th></th>\n",
       "      <th>Feature</th>\n",
       "      <th>Mean</th>\n",
       "      <th>Standard Deviation</th>\n",
       "      <th>Skew</th>\n",
       "      <th>Sharpness</th>\n",
       "    </tr>\n",
       "  </thead>\n",
       "  <tbody>\n",
       "    <tr>\n",
       "      <th>0</th>\n",
       "      <td>peri_distance</td>\n",
       "      <td>-1.227418e-16</td>\n",
       "      <td>1.000403</td>\n",
       "      <td>3.164462</td>\n",
       "      <td>10.536952</td>\n",
       "    </tr>\n",
       "    <tr>\n",
       "      <th>1</th>\n",
       "      <td>inclination</td>\n",
       "      <td>3.023815e-16</td>\n",
       "      <td>1.000403</td>\n",
       "      <td>-1.341428</td>\n",
       "      <td>0.572725</td>\n",
       "    </tr>\n",
       "    <tr>\n",
       "      <th>2</th>\n",
       "      <td>node</td>\n",
       "      <td>7.622160e-17</td>\n",
       "      <td>1.000403</td>\n",
       "      <td>0.422364</td>\n",
       "      <td>-1.546508</td>\n",
       "    </tr>\n",
       "    <tr>\n",
       "      <th>3</th>\n",
       "      <td>perihelion</td>\n",
       "      <td>3.077492e-17</td>\n",
       "      <td>1.000403</td>\n",
       "      <td>1.852627</td>\n",
       "      <td>2.659769</td>\n",
       "    </tr>\n",
       "    <tr>\n",
       "      <th>4</th>\n",
       "      <td>time_of_peri</td>\n",
       "      <td>2.989819e-16</td>\n",
       "      <td>1.000403</td>\n",
       "      <td>-5.688438</td>\n",
       "      <td>39.495091</td>\n",
       "    </tr>\n",
       "    <tr>\n",
       "      <th>5</th>\n",
       "      <td>days_of_data_arc</td>\n",
       "      <td>3.086438e-18</td>\n",
       "      <td>1.000403</td>\n",
       "      <td>5.070218</td>\n",
       "      <td>38.327365</td>\n",
       "    </tr>\n",
       "  </tbody>\n",
       "</table>\n",
       "</div>"
      ],
      "text/plain": [
       "            Feature          Mean  Standard Deviation      Skew  Sharpness\n",
       "0     peri_distance -1.227418e-16            1.000403  3.164462  10.536952\n",
       "1       inclination  3.023815e-16            1.000403 -1.341428   0.572725\n",
       "2              node  7.622160e-17            1.000403  0.422364  -1.546508\n",
       "3        perihelion  3.077492e-17            1.000403  1.852627   2.659769\n",
       "4      time_of_peri  2.989819e-16            1.000403 -5.688438  39.495091\n",
       "5  days_of_data_arc  3.086438e-18            1.000403  5.070218  38.327365"
      ]
     },
     "execution_count": 15,
     "metadata": {},
     "output_type": "execute_result"
    }
   ],
   "source": [
    "# display of new stats after scaling\n",
    "e.display_stat(train_scaled)"
   ]
  },
  {
   "cell_type": "markdown",
   "id": "716f33b7",
   "metadata": {},
   "source": [
    "## Running the Models"
   ]
  },
  {
   "cell_type": "code",
   "execution_count": 16,
   "id": "ceddeb74",
   "metadata": {},
   "outputs": [
    {
     "data": {
      "text/html": [
       "<div>\n",
       "<style scoped>\n",
       "    .dataframe tbody tr th:only-of-type {\n",
       "        vertical-align: middle;\n",
       "    }\n",
       "\n",
       "    .dataframe tbody tr th {\n",
       "        vertical-align: top;\n",
       "    }\n",
       "\n",
       "    .dataframe thead th {\n",
       "        text-align: right;\n",
       "    }\n",
       "</style>\n",
       "<table border=\"1\" class=\"dataframe\">\n",
       "  <thead>\n",
       "    <tr style=\"text-align: right;\">\n",
       "      <th></th>\n",
       "      <th>Model</th>\n",
       "      <th>Train Accuracy</th>\n",
       "      <th>Validate Accuracy</th>\n",
       "    </tr>\n",
       "  </thead>\n",
       "  <tbody>\n",
       "    <tr>\n",
       "      <th>0</th>\n",
       "      <td>KNN</td>\n",
       "      <td>0.979855</td>\n",
       "      <td>0.984991</td>\n",
       "    </tr>\n",
       "    <tr>\n",
       "      <th>1</th>\n",
       "      <td>Logistic Regression</td>\n",
       "      <td>0.986301</td>\n",
       "      <td>0.983114</td>\n",
       "    </tr>\n",
       "    <tr>\n",
       "      <th>2</th>\n",
       "      <td>Decision Tree</td>\n",
       "      <td>0.991942</td>\n",
       "      <td>0.984991</td>\n",
       "    </tr>\n",
       "    <tr>\n",
       "      <th>3</th>\n",
       "      <td>Random Forest</td>\n",
       "      <td>0.987107</td>\n",
       "      <td>0.988743</td>\n",
       "    </tr>\n",
       "  </tbody>\n",
       "</table>\n",
       "</div>"
      ],
      "text/plain": [
       "                 Model  Train Accuracy  Validate Accuracy\n",
       "0                  KNN        0.979855           0.984991\n",
       "1  Logistic Regression        0.986301           0.983114\n",
       "2        Decision Tree        0.991942           0.984991\n",
       "3        Random Forest        0.987107           0.988743"
      ]
     },
     "execution_count": 16,
     "metadata": {},
     "output_type": "execute_result"
    }
   ],
   "source": [
    "m.model_results(train_scaled, validate_scaled, train_y, validate_y)"
   ]
  },
  {
   "cell_type": "markdown",
   "id": "5364895f",
   "metadata": {},
   "source": [
    "# amazing results! My model beat baseline by 20%\n",
    "## I decided to use random forest to test because there was the smallest difference between train and validate"
   ]
  },
  {
   "cell_type": "code",
   "execution_count": 17,
   "id": "7730e95e",
   "metadata": {},
   "outputs": [
    {
     "name": "stdout",
     "output_type": "stream",
     "text": [
      "Accuracy of Random Forest on train is 0.972972972972973\n"
     ]
    }
   ],
   "source": [
    "final_results = m.test_model(test_scaled, test_y)"
   ]
  },
  {
   "cell_type": "markdown",
   "id": "1b95508e",
   "metadata": {},
   "source": [
    "# test model performed more poorly on the test dataset, but still beat baseline by 18%"
   ]
  },
  {
   "cell_type": "code",
   "execution_count": 18,
   "id": "c6e2397a",
   "metadata": {},
   "outputs": [],
   "source": [
    "train_data_arc = pd.DataFrame(train_scaled.days_of_data_arc)"
   ]
  },
  {
   "cell_type": "code",
   "execution_count": 19,
   "id": "24db23cc",
   "metadata": {},
   "outputs": [],
   "source": [
    "validate_data_arc = pd.DataFrame(validate_scaled.days_of_data_arc)"
   ]
  },
  {
   "cell_type": "code",
   "execution_count": 20,
   "id": "b9d4d621",
   "metadata": {},
   "outputs": [
    {
     "data": {
      "text/html": [
       "<div>\n",
       "<style scoped>\n",
       "    .dataframe tbody tr th:only-of-type {\n",
       "        vertical-align: middle;\n",
       "    }\n",
       "\n",
       "    .dataframe tbody tr th {\n",
       "        vertical-align: top;\n",
       "    }\n",
       "\n",
       "    .dataframe thead th {\n",
       "        text-align: right;\n",
       "    }\n",
       "</style>\n",
       "<table border=\"1\" class=\"dataframe\">\n",
       "  <thead>\n",
       "    <tr style=\"text-align: right;\">\n",
       "      <th></th>\n",
       "      <th>Model</th>\n",
       "      <th>Train Accuracy</th>\n",
       "      <th>Validate Accuracy</th>\n",
       "    </tr>\n",
       "  </thead>\n",
       "  <tbody>\n",
       "    <tr>\n",
       "      <th>0</th>\n",
       "      <td>KNN</td>\n",
       "      <td>0.958098</td>\n",
       "      <td>0.958724</td>\n",
       "    </tr>\n",
       "    <tr>\n",
       "      <th>1</th>\n",
       "      <td>Logistic Regression</td>\n",
       "      <td>0.947623</td>\n",
       "      <td>0.949343</td>\n",
       "    </tr>\n",
       "    <tr>\n",
       "      <th>2</th>\n",
       "      <td>Decision Tree</td>\n",
       "      <td>0.958098</td>\n",
       "      <td>0.958724</td>\n",
       "    </tr>\n",
       "    <tr>\n",
       "      <th>3</th>\n",
       "      <td>Random Forest</td>\n",
       "      <td>0.956487</td>\n",
       "      <td>0.956848</td>\n",
       "    </tr>\n",
       "  </tbody>\n",
       "</table>\n",
       "</div>"
      ],
      "text/plain": [
       "                 Model  Train Accuracy  Validate Accuracy\n",
       "0                  KNN        0.958098           0.958724\n",
       "1  Logistic Regression        0.947623           0.949343\n",
       "2        Decision Tree        0.958098           0.958724\n",
       "3        Random Forest        0.956487           0.956848"
      ]
     },
     "execution_count": 20,
     "metadata": {},
     "output_type": "execute_result"
    }
   ],
   "source": [
    "m.model_results(train_data_arc, validate_data_arc, train_y, validate_y)"
   ]
  },
  {
   "cell_type": "code",
   "execution_count": 21,
   "id": "3c885323",
   "metadata": {},
   "outputs": [],
   "source": [
    "train_no_data_arc = pd.DataFrame(train_scaled.drop(['days_of_data_arc'], axis = 1))"
   ]
  },
  {
   "cell_type": "code",
   "execution_count": 22,
   "id": "4c71b8f3",
   "metadata": {},
   "outputs": [],
   "source": [
    "validate_no_data_arc = pd.DataFrame(validate_scaled.drop(['days_of_data_arc'], axis = 1))"
   ]
  },
  {
   "cell_type": "code",
   "execution_count": 23,
   "id": "b79a3a03",
   "metadata": {},
   "outputs": [
    {
     "data": {
      "text/html": [
       "<div>\n",
       "<style scoped>\n",
       "    .dataframe tbody tr th:only-of-type {\n",
       "        vertical-align: middle;\n",
       "    }\n",
       "\n",
       "    .dataframe tbody tr th {\n",
       "        vertical-align: top;\n",
       "    }\n",
       "\n",
       "    .dataframe thead th {\n",
       "        text-align: right;\n",
       "    }\n",
       "</style>\n",
       "<table border=\"1\" class=\"dataframe\">\n",
       "  <thead>\n",
       "    <tr style=\"text-align: right;\">\n",
       "      <th></th>\n",
       "      <th>Model</th>\n",
       "      <th>Train Accuracy</th>\n",
       "      <th>Validate Accuracy</th>\n",
       "    </tr>\n",
       "  </thead>\n",
       "  <tbody>\n",
       "    <tr>\n",
       "      <th>0</th>\n",
       "      <td>KNN</td>\n",
       "      <td>0.979049</td>\n",
       "      <td>0.984991</td>\n",
       "    </tr>\n",
       "    <tr>\n",
       "      <th>1</th>\n",
       "      <td>Logistic Regression</td>\n",
       "      <td>0.983884</td>\n",
       "      <td>0.981238</td>\n",
       "    </tr>\n",
       "    <tr>\n",
       "      <th>2</th>\n",
       "      <td>Decision Tree</td>\n",
       "      <td>0.988719</td>\n",
       "      <td>0.979362</td>\n",
       "    </tr>\n",
       "    <tr>\n",
       "      <th>3</th>\n",
       "      <td>Random Forest</td>\n",
       "      <td>0.983884</td>\n",
       "      <td>0.981238</td>\n",
       "    </tr>\n",
       "  </tbody>\n",
       "</table>\n",
       "</div>"
      ],
      "text/plain": [
       "                 Model  Train Accuracy  Validate Accuracy\n",
       "0                  KNN        0.979049           0.984991\n",
       "1  Logistic Regression        0.983884           0.981238\n",
       "2        Decision Tree        0.988719           0.979362\n",
       "3        Random Forest        0.983884           0.981238"
      ]
     },
     "execution_count": 23,
     "metadata": {},
     "output_type": "execute_result"
    }
   ],
   "source": [
    "m.model_results(train_no_data_arc, validate_no_data_arc, train_y, validate_y)"
   ]
  },
  {
   "cell_type": "code",
   "execution_count": 24,
   "id": "bed007cd",
   "metadata": {},
   "outputs": [],
   "source": [
    "train_no_arc_no_distance = pd.DataFrame(train_scaled.drop(['days_of_data_arc','peri_distance'], axis = 1))"
   ]
  },
  {
   "cell_type": "code",
   "execution_count": 25,
   "id": "3d7b86f4",
   "metadata": {},
   "outputs": [],
   "source": [
    "validate_no_arc_no_distance = pd.DataFrame(validate_scaled.drop(['days_of_data_arc', 'peri_distance'], axis = 1))"
   ]
  },
  {
   "cell_type": "code",
   "execution_count": 26,
   "id": "505b8a8f",
   "metadata": {},
   "outputs": [
    {
     "data": {
      "text/html": [
       "<div>\n",
       "<style scoped>\n",
       "    .dataframe tbody tr th:only-of-type {\n",
       "        vertical-align: middle;\n",
       "    }\n",
       "\n",
       "    .dataframe tbody tr th {\n",
       "        vertical-align: top;\n",
       "    }\n",
       "\n",
       "    .dataframe thead th {\n",
       "        text-align: right;\n",
       "    }\n",
       "</style>\n",
       "<table border=\"1\" class=\"dataframe\">\n",
       "  <thead>\n",
       "    <tr style=\"text-align: right;\">\n",
       "      <th></th>\n",
       "      <th>Model</th>\n",
       "      <th>Train Accuracy</th>\n",
       "      <th>Validate Accuracy</th>\n",
       "    </tr>\n",
       "  </thead>\n",
       "  <tbody>\n",
       "    <tr>\n",
       "      <th>0</th>\n",
       "      <td>KNN</td>\n",
       "      <td>0.978243</td>\n",
       "      <td>0.986867</td>\n",
       "    </tr>\n",
       "    <tr>\n",
       "      <th>1</th>\n",
       "      <td>Logistic Regression</td>\n",
       "      <td>0.979049</td>\n",
       "      <td>0.981238</td>\n",
       "    </tr>\n",
       "    <tr>\n",
       "      <th>2</th>\n",
       "      <td>Decision Tree</td>\n",
       "      <td>0.986301</td>\n",
       "      <td>0.984991</td>\n",
       "    </tr>\n",
       "    <tr>\n",
       "      <th>3</th>\n",
       "      <td>Random Forest</td>\n",
       "      <td>0.982272</td>\n",
       "      <td>0.981238</td>\n",
       "    </tr>\n",
       "  </tbody>\n",
       "</table>\n",
       "</div>"
      ],
      "text/plain": [
       "                 Model  Train Accuracy  Validate Accuracy\n",
       "0                  KNN        0.978243           0.986867\n",
       "1  Logistic Regression        0.979049           0.981238\n",
       "2        Decision Tree        0.986301           0.984991\n",
       "3        Random Forest        0.982272           0.981238"
      ]
     },
     "execution_count": 26,
     "metadata": {},
     "output_type": "execute_result"
    }
   ],
   "source": [
    "m.model_results(train_no_arc_no_distance, validate_no_arc_no_distance, train_y, validate_y)"
   ]
  },
  {
   "cell_type": "code",
   "execution_count": 27,
   "id": "fd50908c",
   "metadata": {},
   "outputs": [],
   "source": [
    "test_no_arc_no_distance = pd.DataFrame(test_scaled.drop(['days_of_data_arc', 'peri_distance'], axis = 1))"
   ]
  },
  {
   "cell_type": "code",
   "execution_count": 28,
   "id": "877fbc08",
   "metadata": {},
   "outputs": [
    {
     "name": "stdout",
     "output_type": "stream",
     "text": [
      "Accuracy of Random Forest on train is 0.972972972972973\n"
     ]
    }
   ],
   "source": [
    "final_results = m.test_model(test_scaled, test_y)"
   ]
  },
  {
   "cell_type": "code",
   "execution_count": 29,
   "id": "6e3edb74",
   "metadata": {},
   "outputs": [
    {
     "data": {
      "text/html": [
       "<div>\n",
       "<style scoped>\n",
       "    .dataframe tbody tr th:only-of-type {\n",
       "        vertical-align: middle;\n",
       "    }\n",
       "\n",
       "    .dataframe tbody tr th {\n",
       "        vertical-align: top;\n",
       "    }\n",
       "\n",
       "    .dataframe thead th {\n",
       "        text-align: right;\n",
       "    }\n",
       "</style>\n",
       "<table border=\"1\" class=\"dataframe\">\n",
       "  <thead>\n",
       "    <tr style=\"text-align: right;\">\n",
       "      <th></th>\n",
       "      <th>perihelion</th>\n",
       "      <th>peri_distance</th>\n",
       "      <th>time_of_peri</th>\n",
       "      <th>inclination</th>\n",
       "      <th>node</th>\n",
       "      <th>days_of_data_arc</th>\n",
       "      <th>two_body_T</th>\n",
       "      <th>two_body_F</th>\n",
       "      <th>two_body_nan</th>\n",
       "    </tr>\n",
       "  </thead>\n",
       "  <tbody>\n",
       "    <tr>\n",
       "      <th>0</th>\n",
       "      <td>0.823667</td>\n",
       "      <td>-0.373868</td>\n",
       "      <td>-0.882932</td>\n",
       "      <td>-0.311100</td>\n",
       "      <td>-0.655431</td>\n",
       "      <td>-0.061629</td>\n",
       "      <td>0.498489</td>\n",
       "      <td>-0.167836</td>\n",
       "      <td>-0.455191</td>\n",
       "    </tr>\n",
       "    <tr>\n",
       "      <th>1</th>\n",
       "      <td>-0.736986</td>\n",
       "      <td>-0.230781</td>\n",
       "      <td>0.265828</td>\n",
       "      <td>1.030838</td>\n",
       "      <td>-0.940725</td>\n",
       "      <td>-0.180771</td>\n",
       "      <td>-2.006064</td>\n",
       "      <td>-0.167836</td>\n",
       "      <td>2.196882</td>\n",
       "    </tr>\n",
       "    <tr>\n",
       "      <th>2</th>\n",
       "      <td>-0.316525</td>\n",
       "      <td>-0.428229</td>\n",
       "      <td>0.310752</td>\n",
       "      <td>0.647320</td>\n",
       "      <td>-0.986262</td>\n",
       "      <td>-0.334332</td>\n",
       "      <td>0.498489</td>\n",
       "      <td>-0.167836</td>\n",
       "      <td>-0.455191</td>\n",
       "    </tr>\n",
       "    <tr>\n",
       "      <th>3</th>\n",
       "      <td>-0.660478</td>\n",
       "      <td>-0.428229</td>\n",
       "      <td>0.240158</td>\n",
       "      <td>0.606595</td>\n",
       "      <td>1.338942</td>\n",
       "      <td>-0.334332</td>\n",
       "      <td>0.498489</td>\n",
       "      <td>-0.167836</td>\n",
       "      <td>-0.455191</td>\n",
       "    </tr>\n",
       "    <tr>\n",
       "      <th>4</th>\n",
       "      <td>-0.552943</td>\n",
       "      <td>-0.428229</td>\n",
       "      <td>0.304334</td>\n",
       "      <td>0.647570</td>\n",
       "      <td>1.413636</td>\n",
       "      <td>-0.331684</td>\n",
       "      <td>0.498489</td>\n",
       "      <td>-0.167836</td>\n",
       "      <td>-0.455191</td>\n",
       "    </tr>\n",
       "  </tbody>\n",
       "</table>\n",
       "</div>"
      ],
      "text/plain": [
       "   perihelion  peri_distance  time_of_peri  inclination      node  \\\n",
       "0    0.823667      -0.373868     -0.882932    -0.311100 -0.655431   \n",
       "1   -0.736986      -0.230781      0.265828     1.030838 -0.940725   \n",
       "2   -0.316525      -0.428229      0.310752     0.647320 -0.986262   \n",
       "3   -0.660478      -0.428229      0.240158     0.606595  1.338942   \n",
       "4   -0.552943      -0.428229      0.304334     0.647570  1.413636   \n",
       "\n",
       "   days_of_data_arc  two_body_T  two_body_F  two_body_nan  \n",
       "0         -0.061629    0.498489   -0.167836     -0.455191  \n",
       "1         -0.180771   -2.006064   -0.167836      2.196882  \n",
       "2         -0.334332    0.498489   -0.167836     -0.455191  \n",
       "3         -0.334332    0.498489   -0.167836     -0.455191  \n",
       "4         -0.331684    0.498489   -0.167836     -0.455191  "
      ]
     },
     "execution_count": 29,
     "metadata": {},
     "output_type": "execute_result"
    }
   ],
   "source": [
    "train_scaled.head()"
   ]
  },
  {
   "cell_type": "code",
   "execution_count": null,
   "id": "61b977e1",
   "metadata": {},
   "outputs": [],
   "source": []
  }
 ],
 "metadata": {
  "kernelspec": {
   "display_name": "Python 3 (ipykernel)",
   "language": "python",
   "name": "python3"
  },
  "language_info": {
   "codemirror_mode": {
    "name": "ipython",
    "version": 3
   },
   "file_extension": ".py",
   "mimetype": "text/x-python",
   "name": "python",
   "nbconvert_exporter": "python",
   "pygments_lexer": "ipython3",
   "version": "3.9.12"
  }
 },
 "nbformat": 4,
 "nbformat_minor": 5
}
